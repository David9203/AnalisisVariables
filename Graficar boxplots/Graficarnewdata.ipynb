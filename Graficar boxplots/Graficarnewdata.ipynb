{
 "cells": [
  {
   "cell_type": "code",
   "execution_count": 1,
   "metadata": {},
   "outputs": [
    {
     "data": {
      "text/plain": [
       "'/home/david/Documentos/Analisisdevariables/Graficar boxplots'"
      ]
     },
     "execution_count": 1,
     "metadata": {},
     "output_type": "execute_result"
    }
   ],
   "source": [
    "import os\n",
    "import pandas as pd\n",
    "import numpy as np\n",
    "import matplotlib.pyplot as plt\n",
    "import seaborn as sns\n",
    "import sklearn\n",
    "from sklearn.preprocessing import StandardScaler\n",
    "os.getcwd()"
   ]
  },
  {
   "cell_type": "code",
   "execution_count": 9,
   "metadata": {},
   "outputs": [
    {
     "data": {
      "text/html": [
       "<div>\n",
       "<style scoped>\n",
       "    .dataframe tbody tr th:only-of-type {\n",
       "        vertical-align: middle;\n",
       "    }\n",
       "\n",
       "    .dataframe tbody tr th {\n",
       "        vertical-align: top;\n",
       "    }\n",
       "\n",
       "    .dataframe thead th {\n",
       "        text-align: right;\n",
       "    }\n",
       "</style>\n",
       "<table border=\"1\" class=\"dataframe\">\n",
       "  <thead>\n",
       "    <tr style=\"text-align: right;\">\n",
       "      <th></th>\n",
       "      <th>filename</th>\n",
       "      <th>chroma_cqt</th>\n",
       "      <th>chroma_cens</th>\n",
       "      <th>spec_contrast</th>\n",
       "      <th>spectral_flatness</th>\n",
       "      <th>tonnetz</th>\n",
       "      <th>cluster</th>\n",
       "      <th>label</th>\n",
       "    </tr>\n",
       "  </thead>\n",
       "  <tbody>\n",
       "    <tr>\n",
       "      <th>0</th>\n",
       "      <td>13654-SM5071__0__20170202_034000.wav</td>\n",
       "      <td>0.727864</td>\n",
       "      <td>0.285205</td>\n",
       "      <td>20.023930</td>\n",
       "      <td>0.000130</td>\n",
       "      <td>0.004495</td>\n",
       "      <td>Cluster7</td>\n",
       "      <td>alta</td>\n",
       "    </tr>\n",
       "    <tr>\n",
       "      <th>1</th>\n",
       "      <td>13654-SM5071__0__20170214_125000.wav</td>\n",
       "      <td>0.761901</td>\n",
       "      <td>0.287474</td>\n",
       "      <td>19.042400</td>\n",
       "      <td>0.000146</td>\n",
       "      <td>0.000493</td>\n",
       "      <td>Cluster7</td>\n",
       "      <td>alta</td>\n",
       "    </tr>\n",
       "    <tr>\n",
       "      <th>2</th>\n",
       "      <td>13654-SM5071__0__20170124_155000.wav</td>\n",
       "      <td>0.755174</td>\n",
       "      <td>0.287091</td>\n",
       "      <td>18.804474</td>\n",
       "      <td>0.000249</td>\n",
       "      <td>0.000493</td>\n",
       "      <td>Cluster7</td>\n",
       "      <td>alta</td>\n",
       "    </tr>\n",
       "    <tr>\n",
       "      <th>3</th>\n",
       "      <td>13654-SM5071__0__20170216_062000.wav</td>\n",
       "      <td>0.758397</td>\n",
       "      <td>0.286858</td>\n",
       "      <td>18.656708</td>\n",
       "      <td>0.000058</td>\n",
       "      <td>0.002114</td>\n",
       "      <td>Cluster7</td>\n",
       "      <td>alta</td>\n",
       "    </tr>\n",
       "    <tr>\n",
       "      <th>4</th>\n",
       "      <td>13654-SM5071__0__20170216_161000.wav</td>\n",
       "      <td>0.745810</td>\n",
       "      <td>0.286716</td>\n",
       "      <td>18.143954</td>\n",
       "      <td>0.000046</td>\n",
       "      <td>0.001628</td>\n",
       "      <td>Cluster7</td>\n",
       "      <td>alta</td>\n",
       "    </tr>\n",
       "  </tbody>\n",
       "</table>\n",
       "</div>"
      ],
      "text/plain": [
       "                               filename  chroma_cqt  chroma_cens  \\\n",
       "0  13654-SM5071__0__20170202_034000.wav    0.727864     0.285205   \n",
       "1  13654-SM5071__0__20170214_125000.wav    0.761901     0.287474   \n",
       "2  13654-SM5071__0__20170124_155000.wav    0.755174     0.287091   \n",
       "3  13654-SM5071__0__20170216_062000.wav    0.758397     0.286858   \n",
       "4  13654-SM5071__0__20170216_161000.wav    0.745810     0.286716   \n",
       "\n",
       "   spec_contrast  spectral_flatness   tonnetz   cluster label  \n",
       "0      20.023930           0.000130  0.004495  Cluster7  alta  \n",
       "1      19.042400           0.000146  0.000493  Cluster7  alta  \n",
       "2      18.804474           0.000249  0.000493  Cluster7  alta  \n",
       "3      18.656708           0.000058  0.002114  Cluster7  alta  \n",
       "4      18.143954           0.000046  0.001628  Cluster7  alta  "
      ]
     },
     "execution_count": 9,
     "metadata": {},
     "output_type": "execute_result"
    }
   ],
   "source": [
    "datos = pd.read_csv(\"data2sepnewfeatures.csv\")\n",
    "datos.head()\n"
   ]
  },
  {
   "cell_type": "code",
   "execution_count": 10,
   "metadata": {},
   "outputs": [
    {
     "data": {
      "text/plain": [
       "(128, 8)"
      ]
     },
     "execution_count": 10,
     "metadata": {},
     "output_type": "execute_result"
    }
   ],
   "source": [
    "datos.shape"
   ]
  },
  {
   "cell_type": "code",
   "execution_count": 24,
   "metadata": {},
   "outputs": [],
   "source": [
    "d=datos.iloc[:,1:6].copy()"
   ]
  },
  {
   "cell_type": "code",
   "execution_count": 21,
   "metadata": {
    "scrolled": true
   },
   "outputs": [],
   "source": [
    "metadata=datos[['filename','cluster','label']]\n",
    "\n"
   ]
  },
  {
   "cell_type": "code",
   "execution_count": 22,
   "metadata": {},
   "outputs": [
    {
     "data": {
      "text/html": [
       "<div>\n",
       "<style scoped>\n",
       "    .dataframe tbody tr th:only-of-type {\n",
       "        vertical-align: middle;\n",
       "    }\n",
       "\n",
       "    .dataframe tbody tr th {\n",
       "        vertical-align: top;\n",
       "    }\n",
       "\n",
       "    .dataframe thead th {\n",
       "        text-align: right;\n",
       "    }\n",
       "</style>\n",
       "<table border=\"1\" class=\"dataframe\">\n",
       "  <thead>\n",
       "    <tr style=\"text-align: right;\">\n",
       "      <th></th>\n",
       "      <th>filename</th>\n",
       "      <th>cluster</th>\n",
       "      <th>label</th>\n",
       "    </tr>\n",
       "  </thead>\n",
       "  <tbody>\n",
       "    <tr>\n",
       "      <th>0</th>\n",
       "      <td>13654-SM5071__0__20170202_034000.wav</td>\n",
       "      <td>Cluster7</td>\n",
       "      <td>alta</td>\n",
       "    </tr>\n",
       "    <tr>\n",
       "      <th>1</th>\n",
       "      <td>13654-SM5071__0__20170214_125000.wav</td>\n",
       "      <td>Cluster7</td>\n",
       "      <td>alta</td>\n",
       "    </tr>\n",
       "    <tr>\n",
       "      <th>2</th>\n",
       "      <td>13654-SM5071__0__20170124_155000.wav</td>\n",
       "      <td>Cluster7</td>\n",
       "      <td>alta</td>\n",
       "    </tr>\n",
       "    <tr>\n",
       "      <th>3</th>\n",
       "      <td>13654-SM5071__0__20170216_062000.wav</td>\n",
       "      <td>Cluster7</td>\n",
       "      <td>alta</td>\n",
       "    </tr>\n",
       "    <tr>\n",
       "      <th>4</th>\n",
       "      <td>13654-SM5071__0__20170216_161000.wav</td>\n",
       "      <td>Cluster7</td>\n",
       "      <td>alta</td>\n",
       "    </tr>\n",
       "  </tbody>\n",
       "</table>\n",
       "</div>"
      ],
      "text/plain": [
       "                               filename   cluster label\n",
       "0  13654-SM5071__0__20170202_034000.wav  Cluster7  alta\n",
       "1  13654-SM5071__0__20170214_125000.wav  Cluster7  alta\n",
       "2  13654-SM5071__0__20170124_155000.wav  Cluster7  alta\n",
       "3  13654-SM5071__0__20170216_062000.wav  Cluster7  alta\n",
       "4  13654-SM5071__0__20170216_161000.wav  Cluster7  alta"
      ]
     },
     "execution_count": 22,
     "metadata": {},
     "output_type": "execute_result"
    }
   ],
   "source": [
    "metadata.head()"
   ]
  },
  {
   "cell_type": "code",
   "execution_count": 25,
   "metadata": {},
   "outputs": [
    {
     "data": {
      "text/html": [
       "<div>\n",
       "<style scoped>\n",
       "    .dataframe tbody tr th:only-of-type {\n",
       "        vertical-align: middle;\n",
       "    }\n",
       "\n",
       "    .dataframe tbody tr th {\n",
       "        vertical-align: top;\n",
       "    }\n",
       "\n",
       "    .dataframe thead th {\n",
       "        text-align: right;\n",
       "    }\n",
       "</style>\n",
       "<table border=\"1\" class=\"dataframe\">\n",
       "  <thead>\n",
       "    <tr style=\"text-align: right;\">\n",
       "      <th></th>\n",
       "      <th>chroma_cqt</th>\n",
       "      <th>chroma_cens</th>\n",
       "      <th>spec_contrast</th>\n",
       "      <th>spectral_flatness</th>\n",
       "      <th>tonnetz</th>\n",
       "    </tr>\n",
       "  </thead>\n",
       "  <tbody>\n",
       "    <tr>\n",
       "      <th>0</th>\n",
       "      <td>0.727864</td>\n",
       "      <td>0.285205</td>\n",
       "      <td>20.023930</td>\n",
       "      <td>0.000130</td>\n",
       "      <td>0.004495</td>\n",
       "    </tr>\n",
       "    <tr>\n",
       "      <th>1</th>\n",
       "      <td>0.761901</td>\n",
       "      <td>0.287474</td>\n",
       "      <td>19.042400</td>\n",
       "      <td>0.000146</td>\n",
       "      <td>0.000493</td>\n",
       "    </tr>\n",
       "    <tr>\n",
       "      <th>2</th>\n",
       "      <td>0.755174</td>\n",
       "      <td>0.287091</td>\n",
       "      <td>18.804474</td>\n",
       "      <td>0.000249</td>\n",
       "      <td>0.000493</td>\n",
       "    </tr>\n",
       "    <tr>\n",
       "      <th>3</th>\n",
       "      <td>0.758397</td>\n",
       "      <td>0.286858</td>\n",
       "      <td>18.656708</td>\n",
       "      <td>0.000058</td>\n",
       "      <td>0.002114</td>\n",
       "    </tr>\n",
       "    <tr>\n",
       "      <th>4</th>\n",
       "      <td>0.745810</td>\n",
       "      <td>0.286716</td>\n",
       "      <td>18.143954</td>\n",
       "      <td>0.000046</td>\n",
       "      <td>0.001628</td>\n",
       "    </tr>\n",
       "  </tbody>\n",
       "</table>\n",
       "</div>"
      ],
      "text/plain": [
       "   chroma_cqt  chroma_cens  spec_contrast  spectral_flatness   tonnetz\n",
       "0    0.727864     0.285205      20.023930           0.000130  0.004495\n",
       "1    0.761901     0.287474      19.042400           0.000146  0.000493\n",
       "2    0.755174     0.287091      18.804474           0.000249  0.000493\n",
       "3    0.758397     0.286858      18.656708           0.000058  0.002114\n",
       "4    0.745810     0.286716      18.143954           0.000046  0.001628"
      ]
     },
     "execution_count": 25,
     "metadata": {},
     "output_type": "execute_result"
    }
   ],
   "source": [
    "d.head()"
   ]
  },
  {
   "cell_type": "code",
   "execution_count": 26,
   "metadata": {},
   "outputs": [
    {
     "data": {
      "text/html": [
       "<div>\n",
       "<style scoped>\n",
       "    .dataframe tbody tr th:only-of-type {\n",
       "        vertical-align: middle;\n",
       "    }\n",
       "\n",
       "    .dataframe tbody tr th {\n",
       "        vertical-align: top;\n",
       "    }\n",
       "\n",
       "    .dataframe thead th {\n",
       "        text-align: right;\n",
       "    }\n",
       "</style>\n",
       "<table border=\"1\" class=\"dataframe\">\n",
       "  <thead>\n",
       "    <tr style=\"text-align: right;\">\n",
       "      <th></th>\n",
       "      <th>chroma_cqt</th>\n",
       "      <th>chroma_cens</th>\n",
       "      <th>spec_contrast</th>\n",
       "      <th>spectral_flatness</th>\n",
       "      <th>tonnetz</th>\n",
       "    </tr>\n",
       "  </thead>\n",
       "  <tbody>\n",
       "    <tr>\n",
       "      <th>0</th>\n",
       "      <td>0.737919</td>\n",
       "      <td>0.594802</td>\n",
       "      <td>0.324609</td>\n",
       "      <td>-0.472099</td>\n",
       "      <td>0.284572</td>\n",
       "    </tr>\n",
       "    <tr>\n",
       "      <th>1</th>\n",
       "      <td>1.197711</td>\n",
       "      <td>0.875889</td>\n",
       "      <td>-0.321808</td>\n",
       "      <td>-0.469811</td>\n",
       "      <td>-0.532283</td>\n",
       "    </tr>\n",
       "    <tr>\n",
       "      <th>2</th>\n",
       "      <td>1.106845</td>\n",
       "      <td>0.828428</td>\n",
       "      <td>-0.478500</td>\n",
       "      <td>-0.454406</td>\n",
       "      <td>-0.532330</td>\n",
       "    </tr>\n",
       "    <tr>\n",
       "      <th>3</th>\n",
       "      <td>1.150379</td>\n",
       "      <td>0.799533</td>\n",
       "      <td>-0.575816</td>\n",
       "      <td>-0.482878</td>\n",
       "      <td>-0.201493</td>\n",
       "    </tr>\n",
       "    <tr>\n",
       "      <th>4</th>\n",
       "      <td>0.980346</td>\n",
       "      <td>0.781929</td>\n",
       "      <td>-0.913506</td>\n",
       "      <td>-0.484703</td>\n",
       "      <td>-0.300706</td>\n",
       "    </tr>\n",
       "  </tbody>\n",
       "</table>\n",
       "</div>"
      ],
      "text/plain": [
       "   chroma_cqt  chroma_cens  spec_contrast  spectral_flatness   tonnetz\n",
       "0    0.737919     0.594802       0.324609          -0.472099  0.284572\n",
       "1    1.197711     0.875889      -0.321808          -0.469811 -0.532283\n",
       "2    1.106845     0.828428      -0.478500          -0.454406 -0.532330\n",
       "3    1.150379     0.799533      -0.575816          -0.482878 -0.201493\n",
       "4    0.980346     0.781929      -0.913506          -0.484703 -0.300706"
      ]
     },
     "execution_count": 26,
     "metadata": {},
     "output_type": "execute_result"
    }
   ],
   "source": [
    "x= StandardScaler().fit_transform(d.values)  ##give numpy array values\n",
    "scalx=pd.DataFrame(x,index=d.index,columns=d.columns) #so we need to transform it \n",
    "d=scalx.copy()\n",
    "scalx.head()"
   ]
  },
  {
   "cell_type": "code",
   "execution_count": 31,
   "metadata": {},
   "outputs": [],
   "source": [
    "d=d.drop(['MIDBNT'], axis = 1)"
   ]
  },
  {
   "cell_type": "code",
   "execution_count": 27,
   "metadata": {},
   "outputs": [
    {
     "data": {
      "text/plain": [
       "<matplotlib.axes._subplots.AxesSubplot at 0x7fbd3a37c9e8>"
      ]
     },
     "execution_count": 27,
     "metadata": {},
     "output_type": "execute_result"
    },
    {
     "data": {
      "image/png": "[encoded data removed]",
      "text/plain": [
       "<Figure size 1584x1584 with 1 Axes>"
      ]
     },
     "metadata": {
      "needs_background": "light"
     },
     "output_type": "display_data"
    }
   ],
   "source": [
    "d.boxplot(figsize = (22,22))"
   ]
  },
  {
   "cell_type": "code",
   "execution_count": 28,
   "metadata": {},
   "outputs": [
    {
     "data": {
      "image/png": "[encoded data removed]",
      "text/plain": [
       "<Figure size 1296x1296 with 6 Axes>"
      ]
     },
     "metadata": {
      "needs_background": "light"
     },
     "output_type": "display_data"
    }
   ],
   "source": [
    "\n",
    "scalxlabel=d.copy()\n",
    "scalxlabel['label']= metadata.label\n",
    "fig=scalxlabel.boxplot(figsize = (18,18),by='label')\n"
   ]
  },
  {
   "cell_type": "code",
   "execution_count": 32,
   "metadata": {},
   "outputs": [
    {
     "data": {
      "text/plain": [
       "<matplotlib.axes._subplots.AxesSubplot at 0x7fbd3931f6d8>"
      ]
     },
     "execution_count": 32,
     "metadata": {},
     "output_type": "execute_result"
    },
    {
     "data": {
      "image/png": "[encoded data removed]",
      "text/plain": [
       "<Figure size 1296x1296 with 1 Axes>"
      ]
     },
     "metadata": {
      "needs_background": "light"
     },
     "output_type": "display_data"
    }
   ],
   "source": [
    "scalxlabel.boxplot(column='tonnetz', by='label',figsize = (18,18))"
   ]
  },
  {
   "cell_type": "code",
   "execution_count": null,
   "metadata": {},
   "outputs": [],
   "source": []
  }
 ],
 "metadata": {
  "kernelspec": {
   "display_name": "Python 3",
   "language": "python",
   "name": "python3"
  },
  "language_info": {
   "codemirror_mode": {
    "name": "ipython",
    "version": 3
   },
   "file_extension": ".py",
   "mimetype": "text/x-python",
   "name": "python",
   "nbconvert_exporter": "python",
   "pygments_lexer": "ipython3",
   "version": "3.7.3"
  }
 },
 "nbformat": 4,
 "nbformat_minor": 2
}

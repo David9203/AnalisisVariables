{
 "cells": [
  {
   "cell_type": "code",
   "execution_count": 2,
   "metadata": {},
   "outputs": [],
   "source": [
    "#Feature extraction of acoustics index\n",
    "\n",
    "from __future__ import print_function\n",
    "\n",
    "import matplotlib.pyplot as plt\n",
    "\n",
    "import librosa\n",
    "import librosa.display\n",
    "from time import time #importamos la función time para capturar tiempos\n",
    "\n",
    "import sklearn\n",
    "# feature extractoring and preprocessing data\n",
    "\n",
    "import matplotlib.pyplot as plt\n",
    "%matplotlib inline\n",
    "from PIL import Image\n",
    "import pathlib\n",
    "\n",
    "\n",
    "# Preprocessing\n",
    "from sklearn.model_selection import train_test_split\n",
    "from sklearn.preprocessing import LabelEncoder, StandardScaler\n",
    "\n",
    "import librosa\n",
    "import pandas as pd\n",
    "import numpy as np\n",
    "import csv\n",
    "from IPython.display import clear_output\n",
    "import os\n",
    "import numpy as np\n",
    "import warnings\n",
    "warnings.filterwarnings('ignore')\n",
    "import soundfile as sf\n",
    "from Indices import *\n",
    "import glob\n",
    "from compute_indice import *\n"
   ]
  },
  {
   "cell_type": "code",
   "execution_count": 7,
   "metadata": {},
   "outputs": [],
   "source": [
    "tipo_ventana = \"hann\"\n",
    "sobreposicion = 0\n",
    "tamano_ventana = 512\n",
    "nfft= 512\n",
    "bio_band = (2000, 8000)\n",
    "tech_band = (200, 1500)\n",
    "filename=\"3787/20161221/T6M-3787_20161221_023000.wav\"\n",
    "\n",
    "songname=filename\n",
    "x, Fs = sf.read(songname)\n",
    "audio = x\n",
    "nmin = len(audio) // (60 * Fs)\n",
    "'''fndarray\n",
    "Array of sample frequencies.\n",
    "\n",
    "tndarray\n",
    "Array of segment times.\n",
    "\n",
    "Sxxndarray\n",
    "Spectrogram of x. By default, the last axis of Sxx corresponds to the segment times.'''\n",
    "## indices acusticos\n",
    "f, t, s = signal.spectrogram(audio, Fs, window=tipo_ventana, nperseg=nmin * tamano_ventana,\n",
    "                         mode=\"magnitude\", \\\n",
    "                         noverlap=sobreposicion, nfft=nmin * nfft)\n",
    "nmin = len(audio) // (60 * Fs)"
   ]
  },
  {
   "cell_type": "code",
   "execution_count": 8,
   "metadata": {},
   "outputs": [],
   "source": [
    "chroma_stft = np.mean(librosa.feature.chroma_stft(y=x, sr=Fs))\n",
    "spec_cent = np.mean(librosa.feature.spectral_centroid(y=x, sr=Fs))\n",
    "spec_bw = np.mean(librosa.feature.spectral_bandwidth(y=x, sr=Fs))\n",
    "\n",
    "\n",
    "ADIM=list(ADIm(s, Fs, 1000)[:11])\n",
    "adi=ADI(s, 10000, 1000, -50)\n",
    "aci=ACItf(audio, Fs, 5, s)\n",
    "te=temporal_entropy(audio, Fs)\n",
    "sme=spectral_maxima_entropy(s, f, 482, 8820)\n",
    "ndsi=NDSI(s, f, bio_band, tech_band)\n",
    "r=rho(s, f, bio_band, tech_band)\n",
    "me=median_envelope(audio, Fs, 16)\n",
    "#number_of_peaks(s, f, 10 * nmin)\n",
    "mba=mid_band_activity(s, f, 450, 3500)\n",
    "bnf=np.mean(background_noise_freq(s))\n",
    "md=musicality_degree(audio, Fs, tamano_ventana, nfft, tipo_ventana, sobreposicion)\n",
    "fm=frequency_modulation(s)\n",
    "we=wiener_entropy(audio, tamano_ventana, nfft, tipo_ventana, sobreposicion)\n",
    "rmss=rms(audio)\n",
    "cf=crest_factor(audio, rmss)\n",
    "          \n",
    "\n",
    "\n",
    "to_append = f'{filename} {np.mean(chroma_stft)} {np.mean(spec_cent)} {np.mean(spec_bw)} {adi} {aci} {te} {sme} {ndsi} {r} {me} {mba} {bnf} {md} {fm} {we} {rmss} {cf}' \n",
    "for i in ADIM: \n",
    "    to_append += f' {i}'"
   ]
  },
  {
   "cell_type": "code",
   "execution_count": 9,
   "metadata": {},
   "outputs": [
    {
     "data": {
      "text/plain": [
       "'3787/20161221/T6M-3787_20161221_023000.wav 0.31772375106811523 6893.3075232326855 4270.144812726907 1.4795519459732924 45893.065615329164 0.9901664192067929 0.9062278296657605 0.980241712010789 100.22334491187134 1255.1454954690012 0.00468384074941452 4.137293643394512e-05 -7.392617019131885 40.188771018527504 0.05161576661452536 131.15707862085588 0.0016755113484654156 0.26561168209138336 0.29543141527512495 0.27144398941698294 0.2799233789557853 0.263983730826969 0.24818287391234736 0.26151164547090533 0.26075209540775474 0.280986517190714 0.3044246702318205 0.2832018749842007'"
      ]
     },
     "execution_count": 9,
     "metadata": {},
     "output_type": "execute_result"
    }
   ],
   "source": [
    "to_append"
   ]
  },
  {
   "cell_type": "code",
   "execution_count": 52,
   "metadata": {},
   "outputs": [],
   "source": [
    "to_append=[]\n",
    "to_append = [filename,np.mean(chroma_stft),np.mean(spec_cent),np.mean(spec_bw),adi,aci,te,sme,ndsi,r,me,mba,bnf,md,fm, we, rmss, cf]\n",
    "for i in ADIM: \n",
    "    to_append.append(i)\n",
    "to_append\n",
    "titulos = [\"filename\",\"chroma_stft\",\"spec_cent\",\"spec_bw\", \"ADI\", \"ACI\", \"TE\", \"ESM\", \"NDSI\", \"P\", \"M\", \"mba\",\"bnf\" ,\"md\",\"fm\", \"we\", \"rms\", \"cf\",\n",
    "                        \"ADIm1\", \"ADIm2\", \"ADIm3\", \"ADIm4\", \"ADIm5\", \"ADIm6\", \"ADIm7\", \"ADIm8\",\n",
    "                       \"ADIm9\", \"ADIm10\", \"ADIm11\"]\n"
   ]
  },
  {
   "cell_type": "code",
   "execution_count": 56,
   "metadata": {},
   "outputs": [
    {
     "data": {
      "text/plain": [
       "['filename',\n",
       " 'chroma_stft',\n",
       " 'spectral_centroid',\n",
       " 'spectral_bandwidth',\n",
       " 'rolloff',\n",
       " 'zero_crossing_rate']"
      ]
     },
     "execution_count": 56,
     "metadata": {},
     "output_type": "execute_result"
    }
   ],
   "source": []
  },
  {
   "cell_type": "code",
   "execution_count": 88,
   "metadata": {},
   "outputs": [
    {
     "ename": "IndentationError",
     "evalue": "expected an indented block (<ipython-input-88-260f5d33c0db>, line 60)",
     "output_type": "error",
     "traceback": [
      "\u001b[0;36m  File \u001b[0;32m\"<ipython-input-88-260f5d33c0db>\"\u001b[0;36m, line \u001b[0;32m60\u001b[0m\n\u001b[0;31m    to_append += f' {i}'\u001b[0m\n\u001b[0m            ^\u001b[0m\n\u001b[0;31mIndentationError\u001b[0m\u001b[0;31m:\u001b[0m expected an indented block\n"
     ]
    }
   ],
   "source": [
    "\n",
    "##Variables para indices\n",
    "header = [\"filename\",\"chroma_stft\",\"spec_cent\",\"spec_bw\", \"ADI\", \"ACI\", \"TE\", \"ESM\", \"NDSI\", \"P\", \"M\", \"mba\",\"bnf\" ,\"md\",\"fm\", \"we\", \"rms\", \"cf\",\n",
    "                        \"ADIm1\", \"ADIm2\", \"ADIm3\", \"ADIm4\", \"ADIm5\", \"ADIm6\", \"ADIm7\", \"ADIm8\",\n",
    "                       \"ADIm9\", \"ADIm10\", \"ADIm11\"]\n",
    "\n",
    "tipo_ventana = \"hann\"\n",
    "sobreposicion = 0\n",
    "tamano_ventana = 512\n",
    "nfft= 512\n",
    "bio_band = (2000, 8000)\n",
    "tech_band = (200, 1500)\n",
    "\n",
    "file = open('data.csv', 'w', newline='')\n",
    "with file:\n",
    "    writer = csv.writer(file)\n",
    "    writer.writerow(header)\n",
    "for g in genres:\n",
    "    for filename in os.listdir(f'{g}'):\n",
    "        clear_output()\n",
    "        print(g)\n",
    "        print(filename)\n",
    "        songname = f'{g}/{filename}'\n",
    "        x, Fs = sf.read(songname)\n",
    "        audio = x\n",
    "        nmin = len(audio) // (60 * Fs)\n",
    "        print(\"1\")\n",
    "\n",
    "        ## indices acusticos\n",
    "        f, t, s = signal.spectrogram(audio, Fs, window=tipo_ventana, nperseg=nmin * tamano_ventana,\n",
    "                                 mode=\"magnitude\", \\\n",
    "                                 noverlap=sobreposicion, nfft=nmin * nfft)\n",
    "        nmin = len(audio) // (60 * Fs)\n",
    "        \n",
    "        ADIM=list(ADIm(s, Fs, 1000)[:11])\n",
    "        adi=ADI(s, 10000, 1000, -50)\n",
    "        aci=ACItf(audio, Fs, 5, s)\n",
    "        beta=beta(s, f)\n",
    "        te=temporal_entropy(audio, Fs)\n",
    "        sme=spectral_maxima_entropy(s, f, 482, 8820)\n",
    "        ndsi=NDSI(s, f, bio_band, tech_band)\n",
    "        r=rho(s, f, bio_band, tech_band)\n",
    "        me=median_envelope(audio, Fs, 16)\n",
    "        #number_of_peaks(s, f, 10 * nmin)\n",
    "        mba=mid_band_activity(s, f, 450, 3500)\n",
    "        bnf=np.mean(background_noise_freq(s))\n",
    "        md=musicality_degree(audio, Fs, tamano_ventana, nfft, tipo_ventana, sobreposicion)\n",
    "        fm=frequency_modulation(s)\n",
    "        we=wiener_entropy(audio, tamano_ventana, nfft, tipo_ventana, sobreposicion)\n",
    "        rmss=rms(audio)\n",
    "        cf=crest_factor(audio, rmss)\n",
    "        print(\"2\")\n",
    "        chroma_stft = np.mean(librosa.feature.chroma_stft(y=x, sr=Fs))\n",
    "        spec_cent = np.mean(librosa.feature.spectral_centroid(y=x, sr=Fs))\n",
    "        spec_bw = np.mean(librosa.feature.spectral_bandwidth(y=x, sr=Fs))\n",
    "        \n",
    "        \n",
    "        to_append = f'{filename} {np.mean(chroma_stft)} {np.mean(spec_cent)} {np.mean(spec_bw)} {adi} {aci} {te} {sme} {ndsi} {r} {me} {mba} {bnf} {md} {fm} {we} {rmss} {cf}' \n",
    "        for i in ADIM: \n",
    "        to_append += f' {i}'\n",
    "        file = open('data.csv', 'a', newline='')\n",
    "        with file:\n",
    "            writer = csv.writer(file)\n",
    "            writer.writerow(to_append.split())"
   ]
  },
  {
   "cell_type": "code",
   "execution_count": 4,
   "metadata": {},
   "outputs": [
    {
     "name": "stdout",
     "output_type": "stream",
     "text": [
      "/media/david/DavidDD/2016\n"
     ]
    },
    {
     "data": {
      "text/plain": [
       "'3787/20161221/T6M-3787_20161221_023000.wav'"
      ]
     },
     "execution_count": 4,
     "metadata": {},
     "output_type": "execute_result"
    }
   ],
   "source": [
    "%cd /media/david/DavidDD/2016\n",
    "\n",
    "import os\n",
    "os.getcwd()\n",
    "genres=glob.glob(f''+'*')\n",
    "g=genres[1]\n",
    "fecha=glob.glob(g+'/*/')[1]\n",
    "fecha\n",
    "len(glob.glob(fecha+'/*.wav'))\n",
    "glob.glob(fecha+'/*.wav')[1]"
   ]
  },
  {
   "cell_type": "code",
   "execution_count": null,
   "metadata": {},
   "outputs": [
    {
     "name": "stdout",
     "output_type": "stream",
     "text": [
      "3785+++++++++++++++++++++++++++++++++++++++++++++          \n",
      "3785/20170123/********************************************\n",
      "3785/20170123/LAS40-3785_20170123_000000.wav\n",
      "grabacion 1 of 1752\n",
      "1\n",
      "2\n",
      "3\n",
      "3785/20170123/LAS40-3785_20170123_001000.wav\n",
      "grabacion 2 of 1752\n",
      "1\n",
      "2\n",
      "3\n",
      "3785/20170123/LAS40-3785_20170123_002000.wav\n",
      "grabacion 3 of 1752\n",
      "1\n",
      "2\n",
      "3\n",
      "3785/20170123/LAS40-3785_20170123_003000.wav\n",
      "grabacion 4 of 1752\n",
      "1\n",
      "2\n",
      "3\n",
      "3785/20170123/LAS40-3785_20170123_004000.wav\n",
      "grabacion 5 of 1752\n",
      "1\n",
      "2\n"
     ]
    }
   ],
   "source": [
    "import librosa\n",
    "import pandas as pd\n",
    "import numpy as np\n",
    "import csv\n",
    "from IPython.display import clear_output\n",
    "import os\n",
    "import numpy as np\n",
    "import warnings\n",
    "warnings.filterwarnings('ignore')\n",
    "import soundfile as sf\n",
    "from Indices import *\n",
    "import glob\n",
    "from compute_indice import *\n",
    "\n",
    "%cd /media/david/DavidDD/2017\n",
    "\n",
    "header = [\"filename\",\"chroma_stft\",\"spec_cent\",\"spec_bw\", \"ADI\", \"ACI\", \"TE\", \"ESM\", \"NDSI\", \"P\", \"M\", \"mba\",\"bnf\" ,\"md\",\"fm\", \"we\", \"rms\", \"cf\",\n",
    "                        \"ADIm1\", \"ADIm2\", \"ADIm3\", \"ADIm4\", \"ADIm5\", \"ADIm6\", \"ADIm7\", \"ADIm8\",\n",
    "                       \"ADIm9\", \"ADIm10\", \"ADIm11\"]\n",
    "import os\n",
    "os.getcwd()\n",
    "genres=glob.glob(f''+'*')\n",
    "genres\n",
    "\n",
    "tipo_ventana = \"hann\"\n",
    "sobreposicion = 0\n",
    "tamano_ventana = 512\n",
    "nfft= 512\n",
    "bio_band = (2000, 8000)\n",
    "tech_band = (200, 1500)\n",
    "\n",
    "\n",
    "grabadora=glob.glob(f''+'*')\n",
    "\n",
    "'''Gneres es la grabadora, fecha es la fecha dentro de la grabadora y filename es el nombre de la grabacion'''\n",
    "\n",
    "for g in grabadora:\n",
    "    clear_output()\n",
    "    print(g+'+++++++++++++++++++++++++++++++++++++++++++++          ')\n",
    "    for fecha in glob.glob(g+'/*/'):\n",
    "        print(fecha+'********************************************')\n",
    "        file = open(fecha+'vari20sep.csv', 'w', newline='')\n",
    "        with file:\n",
    "            writer = csv.writer(file)\n",
    "            writer.writerow(header)\n",
    "        for num, filename in enumerate(glob.glob(fecha+'/*.wav'), start=1):\n",
    "            try:\n",
    "                print(filename)\n",
    "                print(\"grabacion {} of {}\".format(num,len(glob.glob(fecha+'/*.wav'))))\n",
    "                x, Fs = sf.read(filename)\n",
    "                audio = x\n",
    "                nmin = len(audio) // (60 * Fs)\n",
    "                ## indices acusticos\n",
    "                f, t, s = signal.spectrogram(audio, Fs, window=tipo_ventana, nperseg=nmin * tamano_ventana,\n",
    "                                         mode=\"magnitude\", \\\n",
    "                                         noverlap=sobreposicion, nfft=nmin * nfft)\n",
    "                nmin = len(audio) // (60 * Fs)                \n",
    "                ADIM=list(ADIm(s, Fs, 1000)[:11])\n",
    "                adi=ADI(s, 10000, 1000, -50)\n",
    "                aci=ACItf(audio, Fs, 5, s)\n",
    "                #beta=beta(s, f)\n",
    "                te=temporal_entropy(audio, Fs)\n",
    "                sme=spectral_maxima_entropy(s, f, 482, 8820)\n",
    "                ndsi=NDSI(s, f, bio_band, tech_band)\n",
    "                r=rho(s, f, bio_band, tech_band)\n",
    "                me=median_envelope(audio, Fs, 16)\n",
    "                #number_of_peaks(s, f, 10 * nmin)\n",
    "                mba=mid_band_activity(s, f, 450, 3500)\n",
    "                bnf=np.mean(background_noise_freq(s))\n",
    "                md=musicality_degree(audio, Fs, tamano_ventana, nfft, tipo_ventana, sobreposicion)\n",
    "                fm=frequency_modulation(s)\n",
    "                we=wiener_entropy(audio, tamano_ventana, nfft, tipo_ventana, sobreposicion)\n",
    "                rmss=rms(audio)\n",
    "                cf=crest_factor(audio, rmss)\n",
    "                chroma_stft = np.mean(librosa.feature.chroma_stft(y=x, sr=Fs))\n",
    "                spec_cent = np.mean(librosa.feature.spectral_centroid(y=x, sr=Fs))\n",
    "                spec_bw = np.mean(librosa.feature.spectral_bandwidth(y=x, sr=Fs))\n",
    "                to_append = f'{filename} {np.mean(chroma_stft)} {np.mean(spec_cent)} {np.mean(spec_bw)} {adi} {aci} {te} {sme} {ndsi} {r} {me} {mba} {bnf} {md} {fm} {we} {rmss} {cf}' \n",
    "                for i in ADIM: \n",
    "                    to_append += f' {i}'\n",
    "                \n",
    "                file = open(fecha+'vari20sep.csv', 'a', newline='')\n",
    "\n",
    "                with file:\n",
    "                    writer = csv.writer(file)\n",
    "                    writer.writerow(to_append.split())\n",
    "                \n",
    "            except:\n",
    "                print(\"grabacion con error:\"+filename)\n",
    "                "
   ]
  },
  {
   "cell_type": "code",
   "execution_count": 1,
   "metadata": {},
   "outputs": [
    {
     "name": "stdout",
     "output_type": "stream",
     "text": [
      "President 1: Washington\n",
      "President 2: Adams\n",
      "President 3: Jefferson\n",
      "President 4: Madison\n",
      "President 5: Monroe\n",
      "President 6: Adams\n",
      "President 7: Jackson\n"
     ]
    }
   ],
   "source": [
    "presidents = [\"Washington\", \"Adams\", \"Jefferson\", \"Madison\", \"Monroe\", \"Adams\", \"Jackson\"]\n",
    "for num, name in enumerate(presidents, start=1):\n",
    "    print(\"President {}: {}\".format(num, name))"
   ]
  },
  {
   "cell_type": "code",
   "execution_count": 2,
   "metadata": {},
   "outputs": [
    {
     "ename": "NameError",
     "evalue": "name 'g' is not defined",
     "output_type": "error",
     "traceback": [
      "\u001b[0;31m---------------------------------------------------------------------------\u001b[0m",
      "\u001b[0;31mNameError\u001b[0m                                 Traceback (most recent call last)",
      "\u001b[0;32m<ipython-input-2-060e300ccc72>\u001b[0m in \u001b[0;36m<module>\u001b[0;34m\u001b[0m\n\u001b[0;32m----> 1\u001b[0;31m \u001b[0;34mf'{g}/{filename}'\u001b[0m\u001b[0;34m\u001b[0m\u001b[0;34m\u001b[0m\u001b[0m\n\u001b[0m",
      "\u001b[0;31mNameError\u001b[0m: name 'g' is not defined"
     ]
    }
   ],
   "source": [
    "f'{g}/{filename}'"
   ]
  },
  {
   "cell_type": "code",
   "execution_count": null,
   "metadata": {},
   "outputs": [],
   "source": []
  }
 ],
 "metadata": {
  "kernelspec": {
   "display_name": "Python 3",
   "language": "python",
   "name": "python3"
  },
  "language_info": {
   "codemirror_mode": {
    "name": "ipython",
    "version": 3
   },
   "file_extension": ".py",
   "mimetype": "text/x-python",
   "name": "python",
   "nbconvert_exporter": "python",
   "pygments_lexer": "ipython3",
   "version": "3.7.3"
  }
 },
 "nbformat": 4,
 "nbformat_minor": 2
}

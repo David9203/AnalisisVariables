{
 "cells": [
  {
   "cell_type": "markdown",
   "metadata": {},
   "source": [
    "EN ESTE NOTEBOOK:\n",
    "    \n",
    "Se busca realizar el clustering de guajira y bolivar en permanencia y transformacion, por medio del clasificador GMMMHMM, "
   ]
  },
  {
   "cell_type": "code",
   "execution_count": 2,
   "metadata": {},
   "outputs": [
    {
     "data": {
      "text/plain": [
       "'/Users/nesdav/Documents/AnalisisVariables/paraescogerlosdias'"
      ]
     },
     "execution_count": 2,
     "metadata": {},
     "output_type": "execute_result"
    }
   ],
   "source": [
    "import os\n",
    "import pandas as pd\n",
    "import numpy as np\n",
    "import matplotlib.pyplot as plt\n",
    "import seaborn as sns\n",
    "import sklearn\n",
    "from sklearn.preprocessing import StandardScaler\n",
    "os.getcwd()"
   ]
  },
  {
   "cell_type": "markdown",
   "metadata": {},
   "source": [
    "#  # Procesamiento de datos para Bolivar con Transformacion "
   ]
  },
  {
   "cell_type": "code",
   "execution_count": 128,
   "metadata": {},
   "outputs": [
    {
     "data": {
      "text/html": [
       "<div>\n",
       "<style scoped>\n",
       "    .dataframe tbody tr th:only-of-type {\n",
       "        vertical-align: middle;\n",
       "    }\n",
       "\n",
       "    .dataframe tbody tr th {\n",
       "        vertical-align: top;\n",
       "    }\n",
       "\n",
       "    .dataframe thead th {\n",
       "        text-align: right;\n",
       "    }\n",
       "</style>\n",
       "<table border=\"1\" class=\"dataframe\">\n",
       "  <thead>\n",
       "    <tr style=\"text-align: right;\">\n",
       "      <th></th>\n",
       "      <th>Unnamed: 0</th>\n",
       "      <th>Grabadora</th>\n",
       "      <th>Lugar</th>\n",
       "      <th>DiaGrabadora</th>\n",
       "      <th>Transformación</th>\n",
       "      <th>Permanencia</th>\n",
       "      <th>Longitud</th>\n",
       "      <th>ACIft</th>\n",
       "      <th>ADI</th>\n",
       "      <th>ACItf</th>\n",
       "      <th>...</th>\n",
       "      <th>ADIm2</th>\n",
       "      <th>ADIm3</th>\n",
       "      <th>ADIm4</th>\n",
       "      <th>ADIm5</th>\n",
       "      <th>ADIm6</th>\n",
       "      <th>ADIm7</th>\n",
       "      <th>ADIm8</th>\n",
       "      <th>ADIm9</th>\n",
       "      <th>ADIm10</th>\n",
       "      <th>ADIm11</th>\n",
       "    </tr>\n",
       "  </thead>\n",
       "  <tbody>\n",
       "    <tr>\n",
       "      <th>0</th>\n",
       "      <td>20170123</td>\n",
       "      <td>302143</td>\n",
       "      <td>Bolívar</td>\n",
       "      <td>20170123302143</td>\n",
       "      <td>Alta</td>\n",
       "      <td>Alta</td>\n",
       "      <td>75º9'42.71'' W</td>\n",
       "      <td>0.881962</td>\n",
       "      <td>1.379585</td>\n",
       "      <td>0.686409</td>\n",
       "      <td>...</td>\n",
       "      <td>-0.727844</td>\n",
       "      <td>-0.582862</td>\n",
       "      <td>-0.308798</td>\n",
       "      <td>-0.926150</td>\n",
       "      <td>-0.331057</td>\n",
       "      <td>-0.084834</td>\n",
       "      <td>-0.863395</td>\n",
       "      <td>-1.828042</td>\n",
       "      <td>-2.117518</td>\n",
       "      <td>-2.407747</td>\n",
       "    </tr>\n",
       "    <tr>\n",
       "      <th>1</th>\n",
       "      <td>20170124</td>\n",
       "      <td>302143</td>\n",
       "      <td>Bolívar</td>\n",
       "      <td>20170124302143</td>\n",
       "      <td>Alta</td>\n",
       "      <td>Alta</td>\n",
       "      <td>75º9'42.71'' W</td>\n",
       "      <td>1.022423</td>\n",
       "      <td>1.613610</td>\n",
       "      <td>1.378754</td>\n",
       "      <td>...</td>\n",
       "      <td>-0.678477</td>\n",
       "      <td>-0.679741</td>\n",
       "      <td>0.243078</td>\n",
       "      <td>-0.736514</td>\n",
       "      <td>-0.277029</td>\n",
       "      <td>-0.368561</td>\n",
       "      <td>-0.961068</td>\n",
       "      <td>-1.967073</td>\n",
       "      <td>-2.226737</td>\n",
       "      <td>-2.740342</td>\n",
       "    </tr>\n",
       "    <tr>\n",
       "      <th>2</th>\n",
       "      <td>20170125</td>\n",
       "      <td>302143</td>\n",
       "      <td>Bolívar</td>\n",
       "      <td>20170125302143</td>\n",
       "      <td>Alta</td>\n",
       "      <td>Alta</td>\n",
       "      <td>75º9'42.71'' W</td>\n",
       "      <td>1.111161</td>\n",
       "      <td>1.282333</td>\n",
       "      <td>1.501813</td>\n",
       "      <td>...</td>\n",
       "      <td>-0.429357</td>\n",
       "      <td>-0.596137</td>\n",
       "      <td>0.282601</td>\n",
       "      <td>-0.416820</td>\n",
       "      <td>-0.122728</td>\n",
       "      <td>-0.193827</td>\n",
       "      <td>-0.809835</td>\n",
       "      <td>-2.247025</td>\n",
       "      <td>-2.729378</td>\n",
       "      <td>-2.948249</td>\n",
       "    </tr>\n",
       "    <tr>\n",
       "      <th>3</th>\n",
       "      <td>20170126</td>\n",
       "      <td>302143</td>\n",
       "      <td>Bolívar</td>\n",
       "      <td>20170126302143</td>\n",
       "      <td>Alta</td>\n",
       "      <td>Alta</td>\n",
       "      <td>75º9'42.71'' W</td>\n",
       "      <td>1.668050</td>\n",
       "      <td>1.371015</td>\n",
       "      <td>1.627049</td>\n",
       "      <td>...</td>\n",
       "      <td>-0.982034</td>\n",
       "      <td>-1.063291</td>\n",
       "      <td>0.153703</td>\n",
       "      <td>-0.902967</td>\n",
       "      <td>-0.663794</td>\n",
       "      <td>-0.948217</td>\n",
       "      <td>-1.586745</td>\n",
       "      <td>-2.645995</td>\n",
       "      <td>-2.926667</td>\n",
       "      <td>-3.717506</td>\n",
       "    </tr>\n",
       "    <tr>\n",
       "      <th>4</th>\n",
       "      <td>20170127</td>\n",
       "      <td>302143</td>\n",
       "      <td>Bolívar</td>\n",
       "      <td>20170127302143</td>\n",
       "      <td>Alta</td>\n",
       "      <td>Alta</td>\n",
       "      <td>75º9'42.71'' W</td>\n",
       "      <td>1.357598</td>\n",
       "      <td>1.473565</td>\n",
       "      <td>1.291146</td>\n",
       "      <td>...</td>\n",
       "      <td>-0.857031</td>\n",
       "      <td>-0.913720</td>\n",
       "      <td>0.131137</td>\n",
       "      <td>-0.725502</td>\n",
       "      <td>-0.514248</td>\n",
       "      <td>-0.349673</td>\n",
       "      <td>-1.012663</td>\n",
       "      <td>-2.140703</td>\n",
       "      <td>-2.623220</td>\n",
       "      <td>-3.301840</td>\n",
       "    </tr>\n",
       "  </tbody>\n",
       "</table>\n",
       "<p>5 rows × 36 columns</p>\n",
       "</div>"
      ],
      "text/plain": [
       "   Unnamed: 0  Grabadora    Lugar    DiaGrabadora Transformación Permanencia  \\\n",
       "0    20170123     302143  Bolívar  20170123302143           Alta        Alta   \n",
       "1    20170124     302143  Bolívar  20170124302143           Alta        Alta   \n",
       "2    20170125     302143  Bolívar  20170125302143           Alta        Alta   \n",
       "3    20170126     302143  Bolívar  20170126302143           Alta        Alta   \n",
       "4    20170127     302143  Bolívar  20170127302143           Alta        Alta   \n",
       "\n",
       "         Longitud     ACIft       ADI     ACItf  ...     ADIm2     ADIm3  \\\n",
       "0  75º9'42.71'' W  0.881962  1.379585  0.686409  ... -0.727844 -0.582862   \n",
       "1  75º9'42.71'' W  1.022423  1.613610  1.378754  ... -0.678477 -0.679741   \n",
       "2  75º9'42.71'' W  1.111161  1.282333  1.501813  ... -0.429357 -0.596137   \n",
       "3  75º9'42.71'' W  1.668050  1.371015  1.627049  ... -0.982034 -1.063291   \n",
       "4  75º9'42.71'' W  1.357598  1.473565  1.291146  ... -0.857031 -0.913720   \n",
       "\n",
       "      ADIm4     ADIm5     ADIm6     ADIm7     ADIm8     ADIm9    ADIm10  \\\n",
       "0 -0.308798 -0.926150 -0.331057 -0.084834 -0.863395 -1.828042 -2.117518   \n",
       "1  0.243078 -0.736514 -0.277029 -0.368561 -0.961068 -1.967073 -2.226737   \n",
       "2  0.282601 -0.416820 -0.122728 -0.193827 -0.809835 -2.247025 -2.729378   \n",
       "3  0.153703 -0.902967 -0.663794 -0.948217 -1.586745 -2.645995 -2.926667   \n",
       "4  0.131137 -0.725502 -0.514248 -0.349673 -1.012663 -2.140703 -2.623220   \n",
       "\n",
       "     ADIm11  \n",
       "0 -2.407747  \n",
       "1 -2.740342  \n",
       "2 -2.948249  \n",
       "3 -3.717506  \n",
       "4 -3.301840  \n",
       "\n",
       "[5 rows x 36 columns]"
      ]
     },
     "execution_count": 128,
     "metadata": {},
     "output_type": "execute_result"
    }
   ],
   "source": [
    "dBolivar = pd.read_csv(\"/Users/nesdav/Documents/AnalisisVariables/Datospuros/DatosBolivar.csv\")\n",
    "dBolivar.head()\n"
   ]
  },
  {
   "cell_type": "code",
   "execution_count": 133,
   "metadata": {},
   "outputs": [
    {
     "data": {
      "text/plain": [
       "<matplotlib.axes._subplots.AxesSubplot at 0x1a1d98e390>"
      ]
     },
     "execution_count": 133,
     "metadata": {},
     "output_type": "execute_result"
    },
    {
     "data": {
      "image/png": "[encoded data removed]",
      "text/plain": [
       "<Figure size 432x288 with 1 Axes>"
      ]
     },
     "metadata": {
      "needs_background": "light"
     },
     "output_type": "display_data"
    }
   ],
   "source": [
    "dBolivar['Transformación'].value_counts().plot(kind='bar')\n"
   ]
  },
  {
   "cell_type": "code",
   "execution_count": 134,
   "metadata": {},
   "outputs": [
    {
     "data": {
      "text/plain": [
       "<matplotlib.axes._subplots.AxesSubplot at 0x1a1f6ab160>"
      ]
     },
     "execution_count": 134,
     "metadata": {},
     "output_type": "execute_result"
    },
    {
     "data": {
      "image/png": "[encoded data removed]",
      "text/plain": [
       "<Figure size 432x288 with 1 Axes>"
      ]
     },
     "metadata": {
      "needs_background": "light"
     },
     "output_type": "display_data"
    }
   ],
   "source": [
    "dBolivar['Permanencia'].value_counts().plot(kind='bar')"
   ]
  },
  {
   "cell_type": "code",
   "execution_count": 7,
   "metadata": {},
   "outputs": [
    {
     "data": {
      "text/html": [
       "<div>\n",
       "<style scoped>\n",
       "    .dataframe tbody tr th:only-of-type {\n",
       "        vertical-align: middle;\n",
       "    }\n",
       "\n",
       "    .dataframe tbody tr th {\n",
       "        vertical-align: top;\n",
       "    }\n",
       "\n",
       "    .dataframe thead th {\n",
       "        text-align: right;\n",
       "    }\n",
       "</style>\n",
       "<table border=\"1\" class=\"dataframe\">\n",
       "  <thead>\n",
       "    <tr style=\"text-align: right;\">\n",
       "      <th></th>\n",
       "      <th>ACIft</th>\n",
       "      <th>ADI</th>\n",
       "      <th>ACItf</th>\n",
       "      <th>BI</th>\n",
       "      <th>TE</th>\n",
       "      <th>ESM</th>\n",
       "      <th>NDSI</th>\n",
       "      <th>P</th>\n",
       "      <th>M</th>\n",
       "      <th>NP</th>\n",
       "      <th>...</th>\n",
       "      <th>ADIm2</th>\n",
       "      <th>ADIm3</th>\n",
       "      <th>ADIm4</th>\n",
       "      <th>ADIm5</th>\n",
       "      <th>ADIm6</th>\n",
       "      <th>ADIm7</th>\n",
       "      <th>ADIm8</th>\n",
       "      <th>ADIm9</th>\n",
       "      <th>ADIm10</th>\n",
       "      <th>ADIm11</th>\n",
       "    </tr>\n",
       "  </thead>\n",
       "  <tbody>\n",
       "    <tr>\n",
       "      <th>0</th>\n",
       "      <td>0.881962</td>\n",
       "      <td>1.379585</td>\n",
       "      <td>0.686409</td>\n",
       "      <td>0.373569</td>\n",
       "      <td>0.780667</td>\n",
       "      <td>-0.995664</td>\n",
       "      <td>0.102277</td>\n",
       "      <td>-0.442452</td>\n",
       "      <td>0.138900</td>\n",
       "      <td>-0.164821</td>\n",
       "      <td>...</td>\n",
       "      <td>-0.727844</td>\n",
       "      <td>-0.582862</td>\n",
       "      <td>-0.308798</td>\n",
       "      <td>-0.926150</td>\n",
       "      <td>-0.331057</td>\n",
       "      <td>-0.084834</td>\n",
       "      <td>-0.863395</td>\n",
       "      <td>-1.828042</td>\n",
       "      <td>-2.117518</td>\n",
       "      <td>-2.407747</td>\n",
       "    </tr>\n",
       "    <tr>\n",
       "      <th>1</th>\n",
       "      <td>1.022423</td>\n",
       "      <td>1.613610</td>\n",
       "      <td>1.378754</td>\n",
       "      <td>0.689791</td>\n",
       "      <td>0.740971</td>\n",
       "      <td>-0.858666</td>\n",
       "      <td>0.272442</td>\n",
       "      <td>-0.274770</td>\n",
       "      <td>0.139990</td>\n",
       "      <td>-0.145246</td>\n",
       "      <td>...</td>\n",
       "      <td>-0.678477</td>\n",
       "      <td>-0.679741</td>\n",
       "      <td>0.243078</td>\n",
       "      <td>-0.736514</td>\n",
       "      <td>-0.277029</td>\n",
       "      <td>-0.368561</td>\n",
       "      <td>-0.961068</td>\n",
       "      <td>-1.967073</td>\n",
       "      <td>-2.226737</td>\n",
       "      <td>-2.740342</td>\n",
       "    </tr>\n",
       "    <tr>\n",
       "      <th>2</th>\n",
       "      <td>1.111161</td>\n",
       "      <td>1.282333</td>\n",
       "      <td>1.501813</td>\n",
       "      <td>0.635879</td>\n",
       "      <td>0.750587</td>\n",
       "      <td>-1.359903</td>\n",
       "      <td>0.467130</td>\n",
       "      <td>0.044668</td>\n",
       "      <td>0.142089</td>\n",
       "      <td>-0.047032</td>\n",
       "      <td>...</td>\n",
       "      <td>-0.429357</td>\n",
       "      <td>-0.596137</td>\n",
       "      <td>0.282601</td>\n",
       "      <td>-0.416820</td>\n",
       "      <td>-0.122728</td>\n",
       "      <td>-0.193827</td>\n",
       "      <td>-0.809835</td>\n",
       "      <td>-2.247025</td>\n",
       "      <td>-2.729378</td>\n",
       "      <td>-2.948249</td>\n",
       "    </tr>\n",
       "    <tr>\n",
       "      <th>3</th>\n",
       "      <td>1.668050</td>\n",
       "      <td>1.371015</td>\n",
       "      <td>1.627049</td>\n",
       "      <td>1.026570</td>\n",
       "      <td>0.600144</td>\n",
       "      <td>-1.692530</td>\n",
       "      <td>0.609323</td>\n",
       "      <td>0.375187</td>\n",
       "      <td>0.159901</td>\n",
       "      <td>0.208658</td>\n",
       "      <td>...</td>\n",
       "      <td>-0.982034</td>\n",
       "      <td>-1.063291</td>\n",
       "      <td>0.153703</td>\n",
       "      <td>-0.902967</td>\n",
       "      <td>-0.663794</td>\n",
       "      <td>-0.948217</td>\n",
       "      <td>-1.586745</td>\n",
       "      <td>-2.645995</td>\n",
       "      <td>-2.926667</td>\n",
       "      <td>-3.717506</td>\n",
       "    </tr>\n",
       "    <tr>\n",
       "      <th>4</th>\n",
       "      <td>1.357598</td>\n",
       "      <td>1.473565</td>\n",
       "      <td>1.291146</td>\n",
       "      <td>0.762733</td>\n",
       "      <td>0.703073</td>\n",
       "      <td>-1.255721</td>\n",
       "      <td>0.266256</td>\n",
       "      <td>0.170234</td>\n",
       "      <td>0.145432</td>\n",
       "      <td>0.152065</td>\n",
       "      <td>...</td>\n",
       "      <td>-0.857031</td>\n",
       "      <td>-0.913720</td>\n",
       "      <td>0.131137</td>\n",
       "      <td>-0.725502</td>\n",
       "      <td>-0.514248</td>\n",
       "      <td>-0.349673</td>\n",
       "      <td>-1.012663</td>\n",
       "      <td>-2.140703</td>\n",
       "      <td>-2.623220</td>\n",
       "      <td>-3.301840</td>\n",
       "    </tr>\n",
       "  </tbody>\n",
       "</table>\n",
       "<p>5 rows × 29 columns</p>\n",
       "</div>"
      ],
      "text/plain": [
       "      ACIft       ADI     ACItf        BI        TE       ESM      NDSI  \\\n",
       "0  0.881962  1.379585  0.686409  0.373569  0.780667 -0.995664  0.102277   \n",
       "1  1.022423  1.613610  1.378754  0.689791  0.740971 -0.858666  0.272442   \n",
       "2  1.111161  1.282333  1.501813  0.635879  0.750587 -1.359903  0.467130   \n",
       "3  1.668050  1.371015  1.627049  1.026570  0.600144 -1.692530  0.609323   \n",
       "4  1.357598  1.473565  1.291146  0.762733  0.703073 -1.255721  0.266256   \n",
       "\n",
       "          P         M        NP  ...     ADIm2     ADIm3     ADIm4     ADIm5  \\\n",
       "0 -0.442452  0.138900 -0.164821  ... -0.727844 -0.582862 -0.308798 -0.926150   \n",
       "1 -0.274770  0.139990 -0.145246  ... -0.678477 -0.679741  0.243078 -0.736514   \n",
       "2  0.044668  0.142089 -0.047032  ... -0.429357 -0.596137  0.282601 -0.416820   \n",
       "3  0.375187  0.159901  0.208658  ... -0.982034 -1.063291  0.153703 -0.902967   \n",
       "4  0.170234  0.145432  0.152065  ... -0.857031 -0.913720  0.131137 -0.725502   \n",
       "\n",
       "      ADIm6     ADIm7     ADIm8     ADIm9    ADIm10    ADIm11  \n",
       "0 -0.331057 -0.084834 -0.863395 -1.828042 -2.117518 -2.407747  \n",
       "1 -0.277029 -0.368561 -0.961068 -1.967073 -2.226737 -2.740342  \n",
       "2 -0.122728 -0.193827 -0.809835 -2.247025 -2.729378 -2.948249  \n",
       "3 -0.663794 -0.948217 -1.586745 -2.645995 -2.926667 -3.717506  \n",
       "4 -0.514248 -0.349673 -1.012663 -2.140703 -2.623220 -3.301840  \n",
       "\n",
       "[5 rows x 29 columns]"
      ]
     },
     "execution_count": 7,
     "metadata": {},
     "output_type": "execute_result"
    }
   ],
   "source": [
    "#En MetaBolivar se encuentran los datos que no son las variables como la grabadora el dia etc \n",
    "MetaBolivar=dBolivar.iloc[:,1:7].copy()\n",
    "dBolivar.drop(dBolivar.iloc[:, 0:7], inplace = True, axis = 1) \n",
    "dBolivar.head()"
   ]
  },
  {
   "cell_type": "code",
   "execution_count": 8,
   "metadata": {},
   "outputs": [],
   "source": [
    "#En yprueba se encuentra las etiquetas\n",
    "ypruebaB=MetaBolivar[\"Transformación\"]\n",
    "trans={'Alta':2,'Baja':0,'Media':1}\n",
    "ypruebaB=[trans[item] for item in ypruebaB]"
   ]
  },
  {
   "cell_type": "code",
   "execution_count": 108,
   "metadata": {},
   "outputs": [],
   "source": [
    "#En yprueba se encuentra las etiquetas\n",
    "ypruebaBP=MetaBolivar[\"Transformación\"]\n",
    "trans={'Alta':2,'Baja':0,'Media':1}\n",
    "ypruebaBP=[trans[item] for item in ypruebaBP]"
   ]
  },
  {
   "cell_type": "code",
   "execution_count": 30,
   "metadata": {},
   "outputs": [
    {
     "data": {
      "text/html": [
       "<div>\n",
       "<style scoped>\n",
       "    .dataframe tbody tr th:only-of-type {\n",
       "        vertical-align: middle;\n",
       "    }\n",
       "\n",
       "    .dataframe tbody tr th {\n",
       "        vertical-align: top;\n",
       "    }\n",
       "\n",
       "    .dataframe thead th {\n",
       "        text-align: right;\n",
       "    }\n",
       "</style>\n",
       "<table border=\"1\" class=\"dataframe\">\n",
       "  <thead>\n",
       "    <tr style=\"text-align: right;\">\n",
       "      <th></th>\n",
       "      <th>ACIft</th>\n",
       "      <th>ADI</th>\n",
       "      <th>ACItf</th>\n",
       "      <th>BI</th>\n",
       "      <th>TE</th>\n",
       "      <th>ESM</th>\n",
       "      <th>NDSI</th>\n",
       "      <th>P</th>\n",
       "      <th>M</th>\n",
       "      <th>NP</th>\n",
       "      <th>...</th>\n",
       "      <th>ADIm2</th>\n",
       "      <th>ADIm3</th>\n",
       "      <th>ADIm4</th>\n",
       "      <th>ADIm5</th>\n",
       "      <th>ADIm6</th>\n",
       "      <th>ADIm7</th>\n",
       "      <th>ADIm8</th>\n",
       "      <th>ADIm9</th>\n",
       "      <th>ADIm10</th>\n",
       "      <th>ADIm11</th>\n",
       "    </tr>\n",
       "  </thead>\n",
       "  <tbody>\n",
       "    <tr>\n",
       "      <th>0</th>\n",
       "      <td>0.575765</td>\n",
       "      <td>1.807894</td>\n",
       "      <td>0.913473</td>\n",
       "      <td>-0.032966</td>\n",
       "      <td>0.957857</td>\n",
       "      <td>-1.182702</td>\n",
       "      <td>-0.100688</td>\n",
       "      <td>-0.777554</td>\n",
       "      <td>1.086514</td>\n",
       "      <td>0.010648</td>\n",
       "      <td>...</td>\n",
       "      <td>-0.241771</td>\n",
       "      <td>-0.333451</td>\n",
       "      <td>-0.384668</td>\n",
       "      <td>-0.654261</td>\n",
       "      <td>-0.078202</td>\n",
       "      <td>0.023575</td>\n",
       "      <td>-0.814086</td>\n",
       "      <td>-1.434639</td>\n",
       "      <td>-1.545367</td>\n",
       "      <td>-1.721528</td>\n",
       "    </tr>\n",
       "    <tr>\n",
       "      <th>1</th>\n",
       "      <td>0.700540</td>\n",
       "      <td>2.083039</td>\n",
       "      <td>1.691185</td>\n",
       "      <td>0.383597</td>\n",
       "      <td>0.879495</td>\n",
       "      <td>-1.019647</td>\n",
       "      <td>0.181739</td>\n",
       "      <td>-0.614388</td>\n",
       "      <td>1.088246</td>\n",
       "      <td>0.044017</td>\n",
       "      <td>...</td>\n",
       "      <td>-0.195525</td>\n",
       "      <td>-0.431560</td>\n",
       "      <td>0.186044</td>\n",
       "      <td>-0.451768</td>\n",
       "      <td>-0.021070</td>\n",
       "      <td>-0.317607</td>\n",
       "      <td>-0.921061</td>\n",
       "      <td>-1.571911</td>\n",
       "      <td>-1.646050</td>\n",
       "      <td>-2.003471</td>\n",
       "    </tr>\n",
       "    <tr>\n",
       "      <th>2</th>\n",
       "      <td>0.779368</td>\n",
       "      <td>1.693554</td>\n",
       "      <td>1.829417</td>\n",
       "      <td>0.312579</td>\n",
       "      <td>0.898477</td>\n",
       "      <td>-1.616221</td>\n",
       "      <td>0.504868</td>\n",
       "      <td>-0.303554</td>\n",
       "      <td>1.091580</td>\n",
       "      <td>0.211435</td>\n",
       "      <td>...</td>\n",
       "      <td>0.037845</td>\n",
       "      <td>-0.346894</td>\n",
       "      <td>0.226915</td>\n",
       "      <td>-0.110400</td>\n",
       "      <td>0.142091</td>\n",
       "      <td>-0.107489</td>\n",
       "      <td>-0.755425</td>\n",
       "      <td>-1.848323</td>\n",
       "      <td>-2.109407</td>\n",
       "      <td>-2.179715</td>\n",
       "    </tr>\n",
       "    <tr>\n",
       "      <th>3</th>\n",
       "      <td>1.274066</td>\n",
       "      <td>1.797818</td>\n",
       "      <td>1.970095</td>\n",
       "      <td>0.827240</td>\n",
       "      <td>0.601497</td>\n",
       "      <td>-2.012113</td>\n",
       "      <td>0.740869</td>\n",
       "      <td>0.018063</td>\n",
       "      <td>1.119863</td>\n",
       "      <td>0.647289</td>\n",
       "      <td>...</td>\n",
       "      <td>-0.479892</td>\n",
       "      <td>-0.819977</td>\n",
       "      <td>0.093619</td>\n",
       "      <td>-0.629506</td>\n",
       "      <td>-0.430045</td>\n",
       "      <td>-1.014644</td>\n",
       "      <td>-1.606324</td>\n",
       "      <td>-2.242248</td>\n",
       "      <td>-2.291277</td>\n",
       "      <td>-2.831819</td>\n",
       "    </tr>\n",
       "    <tr>\n",
       "      <th>4</th>\n",
       "      <td>0.998284</td>\n",
       "      <td>1.918387</td>\n",
       "      <td>1.592775</td>\n",
       "      <td>0.479685</td>\n",
       "      <td>0.804683</td>\n",
       "      <td>-1.492223</td>\n",
       "      <td>0.171472</td>\n",
       "      <td>-0.181370</td>\n",
       "      <td>1.096888</td>\n",
       "      <td>0.550819</td>\n",
       "      <td>...</td>\n",
       "      <td>-0.362791</td>\n",
       "      <td>-0.668508</td>\n",
       "      <td>0.070282</td>\n",
       "      <td>-0.440009</td>\n",
       "      <td>-0.271912</td>\n",
       "      <td>-0.294895</td>\n",
       "      <td>-0.977569</td>\n",
       "      <td>-1.743345</td>\n",
       "      <td>-2.011546</td>\n",
       "      <td>-2.479456</td>\n",
       "    </tr>\n",
       "  </tbody>\n",
       "</table>\n",
       "<p>5 rows × 29 columns</p>\n",
       "</div>"
      ],
      "text/plain": [
       "      ACIft       ADI     ACItf        BI        TE       ESM      NDSI  \\\n",
       "0  0.575765  1.807894  0.913473 -0.032966  0.957857 -1.182702 -0.100688   \n",
       "1  0.700540  2.083039  1.691185  0.383597  0.879495 -1.019647  0.181739   \n",
       "2  0.779368  1.693554  1.829417  0.312579  0.898477 -1.616221  0.504868   \n",
       "3  1.274066  1.797818  1.970095  0.827240  0.601497 -2.012113  0.740869   \n",
       "4  0.998284  1.918387  1.592775  0.479685  0.804683 -1.492223  0.171472   \n",
       "\n",
       "          P         M        NP  ...     ADIm2     ADIm3     ADIm4     ADIm5  \\\n",
       "0 -0.777554  1.086514  0.010648  ... -0.241771 -0.333451 -0.384668 -0.654261   \n",
       "1 -0.614388  1.088246  0.044017  ... -0.195525 -0.431560  0.186044 -0.451768   \n",
       "2 -0.303554  1.091580  0.211435  ...  0.037845 -0.346894  0.226915 -0.110400   \n",
       "3  0.018063  1.119863  0.647289  ... -0.479892 -0.819977  0.093619 -0.629506   \n",
       "4 -0.181370  1.096888  0.550819  ... -0.362791 -0.668508  0.070282 -0.440009   \n",
       "\n",
       "      ADIm6     ADIm7     ADIm8     ADIm9    ADIm10    ADIm11  \n",
       "0 -0.078202  0.023575 -0.814086 -1.434639 -1.545367 -1.721528  \n",
       "1 -0.021070 -0.317607 -0.921061 -1.571911 -1.646050 -2.003471  \n",
       "2  0.142091 -0.107489 -0.755425 -1.848323 -2.109407 -2.179715  \n",
       "3 -0.430045 -1.014644 -1.606324 -2.242248 -2.291277 -2.831819  \n",
       "4 -0.271912 -0.294895 -0.977569 -1.743345 -2.011546 -2.479456  \n",
       "\n",
       "[5 rows x 29 columns]"
      ]
     },
     "execution_count": 30,
     "metadata": {},
     "output_type": "execute_result"
    }
   ],
   "source": [
    "#Se estandarizan los datos y quedan guardados en scalx\n",
    "x= StandardScaler().fit_transform(dBolivar.values)  ##give numpy array values\n",
    "scalx=pd.DataFrame(x,index=dBolivar.index,columns=dBolivar.columns) #so we need to transform it \n",
    "d=scalx.copy()\n",
    "scalx.head()\n",
    "\n"
   ]
  },
  {
   "cell_type": "code",
   "execution_count": 7,
   "metadata": {},
   "outputs": [],
   "source": [
    "import numpy as np\n",
    "import matplotlib.pyplot as plt\n",
    "anomalies = []\n",
    "outliers=[]\n",
    "# Function to Detection Outlier on one-dimentional datasets.\n",
    "def find_anomalies(random_data):    # Set upper and lower limit to 3 standard deviation\n",
    "    random_data_std = np.std(random_data)\n",
    "    random_data_mean = np.mean(random_data)\n",
    "    anomaly_cut_off = random_data_std * 3\n",
    "    \n",
    "    lower_limit  = random_data_mean - anomaly_cut_off \n",
    "    upper_limit = random_data_mean + anomaly_cut_off\n",
    "    #print(lower_limit)\n",
    "    # Generate outliers\n",
    "    anomalies = []\n",
    "    for index, outlier in enumerate(random_data):\n",
    "        if outlier > upper_limit or outlier < lower_limit:\n",
    "            anomalies.append(outlier)\n",
    "            print(\"esta en la posicion\",index)\n",
    "    return anomalies\n",
    "    "
   ]
  },
  {
   "cell_type": "code",
   "execution_count": 82,
   "metadata": {},
   "outputs": [
    {
     "name": "stdout",
     "output_type": "stream",
     "text": [
      "los outliers en ACIft\n",
      "esta en la posicion 54\n",
      "prim ACIft\n",
      "second 1.5313421029312504e-17\n",
      "los outliers en ADI\n",
      "los outliers en ACItf\n",
      "los outliers en BI\n",
      "los outliers en TE\n",
      "los outliers en ESM\n",
      "los outliers en NDSI\n",
      "los outliers en P\n",
      "esta en la posicion 37\n",
      "prim P\n",
      "second 1.1229842088162504e-16\n",
      "los outliers en M\n",
      "los outliers en NP\n",
      "esta en la posicion 23\n",
      "esta en la posicion 24\n",
      "esta en la posicion 25\n",
      "esta en la posicion 26\n",
      "aaa 0\n",
      "datos corregidos 9.124246696632034e-17\n",
      "aaa 1\n",
      "datos corregidos -0.00012239005942281438\n",
      "aaa 2\n",
      "datos corregidos -0.0006297412799011978\n",
      "aaa 3\n",
      "datos corregidos -0.003067265115278446\n",
      "los outliers en MID\n",
      "los outliers en BNF\n",
      "los outliers en BNT\n",
      "los outliers en MD\n",
      "los outliers en FM\n",
      "los outliers en SF\n",
      "esta en la posicion 84\n",
      "esta en la posicion 85\n",
      "los outliers en RMS\n",
      "los outliers en CF\n",
      "esta en la posicion 45\n",
      "prim CF\n",
      "second 6.993128936719377e-16\n",
      "los outliers en ADIm1\n",
      "los outliers en ADIm2\n",
      "los outliers en ADIm3\n",
      "los outliers en ADIm4\n",
      "los outliers en ADIm5\n",
      "los outliers en ADIm6\n",
      "los outliers en ADIm7\n",
      "los outliers en ADIm8\n",
      "los outliers en ADIm9\n",
      "los outliers en ADIm10\n",
      "los outliers en ADIm11\n"
     ]
    }
   ],
   "source": [
    "d=scalx.copy()\n",
    "\n",
    "for index ,i in enumerate(d.columns):\n",
    "    print(\"los outliers en\",d.columns[index])\n",
    "    a=find_anomalies(d.iloc[:,index])\n",
    "    if len(a)>2:\n",
    "        for b in range(len(a)):\n",
    "            print ('aaa',b)\n",
    "            d[i].iloc[b]= d[i].mean()\n",
    "            print ('datos corregidos', d[i].iloc[b])\n",
    "    elif len(a) == 1:\n",
    "        print(\"prim\", i)\n",
    "        print(\"second\",d[i].mean())\n",
    "        d[i].iloc[index]= d[i].mean()\n",
    "        \n",
    "dw=d.copy()\n"
   ]
  },
  {
   "cell_type": "code",
   "execution_count": 84,
   "metadata": {},
   "outputs": [],
   "source": [
    "##Creo una nueva db que tendra los datos sin outliers\n",
    "dwitouliers=d\n",
    "#y reemplazo los outliers por la media del vector \n",
    "dwitouliers.ACIft[54]=d.ACIft.mean()\n",
    "dwitouliers.P[37]=d.P.mean()\n",
    "dwitouliers.NP[23]=d.NP.mean()\n",
    "dwitouliers.NP[24]=d.NP.mean()\n",
    "dwitouliers.NP[25]=d.NP.mean()\n",
    "dwitouliers.NP[26]=d.NP.mean()\n",
    "dwitouliers.SF[84]=d.SF.mean()\n",
    "dwitouliers.SF[85]=d.SF.mean()\n",
    "dwitouliers.CF[45]=d.CF.mean()\n",
    "\n"
   ]
  },
  {
   "cell_type": "code",
   "execution_count": 112,
   "metadata": {},
   "outputs": [
    {
     "data": {
      "text/plain": [
       "<matplotlib.axes._subplots.AxesSubplot at 0x1a208597f0>"
      ]
     },
     "execution_count": 112,
     "metadata": {},
     "output_type": "execute_result"
    },
    {
     "data": {
      "image/png": "[encoded data removed]",
      "text/plain": [
       "<Figure size 1584x1584 with 1 Axes>"
      ]
     },
     "metadata": {
      "needs_background": "light"
     },
     "output_type": "display_data"
    }
   ],
   "source": [
    "dwitouliers.boxplot(figsize = (22,22))"
   ]
  },
  {
   "cell_type": "code",
   "execution_count": 115,
   "metadata": {},
   "outputs": [],
   "source": [
    "#BNT no aporta informacion\n",
    "dwitouliers=dwitouliers.drop(['BNT'],axis=1)"
   ]
  },
  {
   "cell_type": "code",
   "execution_count": 116,
   "metadata": {},
   "outputs": [
    {
     "data": {
      "text/plain": [
       "<matplotlib.axes._subplots.AxesSubplot at 0x1a1c9e0dd8>"
      ]
     },
     "execution_count": 116,
     "metadata": {},
     "output_type": "execute_result"
    },
    {
     "data": {
      "image/png": "[encoded data removed]",
      "text/plain": [
       "<Figure size 1584x1584 with 1 Axes>"
      ]
     },
     "metadata": {
      "needs_background": "light"
     },
     "output_type": "display_data"
    }
   ],
   "source": [
    "dwitouliers.boxplot(figsize = (22,22))"
   ]
  },
  {
   "cell_type": "code",
   "execution_count": 117,
   "metadata": {},
   "outputs": [],
   "source": [
    "##En este caso dataprofe son los datos sin outliers\n",
    "dataprofe=dwitouliers.copy()\n",
    "from hmmlearn import hmm\n",
    "\n",
    "modelhm=hmm.GMMHMM(n_components=8,n_mix=2,covariance_type=\"spherical\",random_state=1) \n",
    "modelhm.fit(dataprofe)\n",
    "labels = modelhm.predict(dataprofe)"
   ]
  },
  {
   "cell_type": "code",
   "execution_count": 118,
   "metadata": {},
   "outputs": [
    {
     "data": {
      "image/png": "[encoded data removed]",
      "text/plain": [
       "<Figure size 1080x1080 with 2 Axes>"
      ]
     },
     "metadata": {
      "needs_background": "light"
     },
     "output_type": "display_data"
    }
   ],
   "source": [
    "yp=ypruebaB\n",
    "fig = plt.figure(figsize=(15,15))\n",
    "ax = fig.add_subplot(2,2,1)\n",
    "x=np.arange(dataprofe.shape[0])\n",
    "y=yp\n",
    "img = ax.scatter(x, yp, c=yp, cmap=plt.viridis())\n",
    "axx = fig.add_subplot(2,2,3)\n",
    "img = axx.scatter(x, labels, c=labels, cmap=plt.viridis())\n",
    "plt.show()"
   ]
  },
  {
   "cell_type": "code",
   "execution_count": 119,
   "metadata": {},
   "outputs": [
    {
     "data": {
      "text/plain": [
       "0.9425287356321839"
      ]
     },
     "execution_count": 119,
     "metadata": {},
     "output_type": "execute_result"
    }
   ],
   "source": [
    "from sklearn.metrics import accuracy_score\n",
    "\n",
    "newlist = []\n",
    "\n",
    "for item in labels:\n",
    "    #print(item)\n",
    "    if item == 0  :\n",
    "        item = 0\n",
    "    elif item == 1  :\n",
    "        item = 2\n",
    "    elif item == 2  :\n",
    "        item = 0\n",
    "    elif item == 3  :\n",
    "        item = 1\n",
    "    elif item == 4  :\n",
    "        item = 1\n",
    "    elif item == 5  :\n",
    "        item = 0    \n",
    "    elif item == 6  :\n",
    "        item = 2\n",
    "    elif item == 7  :\n",
    "        item = 2\n",
    "      \n",
    "        #print(item)\n",
    "    newlist.append(item)\n",
    "newlist;\n",
    "accuracy_score(yp,newlist)"
   ]
  },
  {
   "cell_type": "code",
   "execution_count": 120,
   "metadata": {},
   "outputs": [
    {
     "data": {
      "text/plain": [
       "array([6, 6, 6, 6, 6, 6, 6, 6, 6, 6, 1, 1, 1, 1, 1, 0, 0, 0, 0, 0, 0, 0,\n",
       "       0, 5, 5, 5, 5, 5, 0, 0, 0, 0, 0, 0, 0, 0, 0, 0, 4, 4, 4, 4, 4, 4,\n",
       "       4, 4, 4, 4, 4, 4, 3, 3, 3, 3, 4, 2, 3, 3, 3, 3, 3, 3, 3, 3, 3, 3,\n",
       "       3, 2, 2, 2, 2, 2, 2, 2, 2, 2, 2, 2, 1, 7, 7, 7, 7, 7, 7, 7, 7])"
      ]
     },
     "execution_count": 120,
     "metadata": {},
     "output_type": "execute_result"
    }
   ],
   "source": [
    "labels"
   ]
  },
  {
   "cell_type": "code",
   "execution_count": 121,
   "metadata": {},
   "outputs": [],
   "source": [
    "MetaBolivar['labelspredichasporGMMHMM']=labels"
   ]
  },
  {
   "cell_type": "code",
   "execution_count": 122,
   "metadata": {},
   "outputs": [],
   "source": [
    "MetaBolivar.to_csv('Resultadosdatosbolivartransformacion.csv')"
   ]
  },
  {
   "cell_type": "markdown",
   "metadata": {},
   "source": [
    "### Databolivar para permanencia"
   ]
  },
  {
   "cell_type": "code",
   "execution_count": 123,
   "metadata": {},
   "outputs": [
    {
     "data": {
      "image/png": "[encoded data removed]",
      "text/plain": [
       "<Figure size 1080x1080 with 2 Axes>"
      ]
     },
     "metadata": {
      "needs_background": "light"
     },
     "output_type": "display_data"
    }
   ],
   "source": [
    "dataprofe=dwitouliers.copy()\n",
    "from hmmlearn import hmm\n",
    "\n",
    "modelhm=hmm.GMMHMM(n_components=8,n_mix=2,covariance_type=\"spherical\",random_state=1) \n",
    "modelhm.fit(dataprofe)\n",
    "labels = modelhm.predict(dataprofe)\n",
    "yp=ypruebaBP\n",
    "fig = plt.figure(figsize=(15,15))\n",
    "ax = fig.add_subplot(2,2,1)\n",
    "x=np.arange(dataprofe.shape[0])\n",
    "y=yp\n",
    "img = ax.scatter(x, yp, c=yp, cmap=plt.viridis())\n",
    "axx = fig.add_subplot(2,2,3)\n",
    "img = axx.scatter(x, labels, c=labels, cmap=plt.viridis())\n",
    "plt.show()"
   ]
  },
  {
   "cell_type": "code",
   "execution_count": 124,
   "metadata": {},
   "outputs": [
    {
     "data": {
      "text/plain": [
       "0.9425287356321839"
      ]
     },
     "execution_count": 124,
     "metadata": {},
     "output_type": "execute_result"
    }
   ],
   "source": [
    "from sklearn.metrics import accuracy_score\n",
    "\n",
    "newlist = []\n",
    "\n",
    "for item in labels:\n",
    "    #print(item)\n",
    "    if item == 0  :\n",
    "        item = 0\n",
    "    elif item == 1  :\n",
    "        item = 2\n",
    "    elif item == 2  :\n",
    "        item = 0\n",
    "    elif item == 3  :\n",
    "        item = 1\n",
    "    elif item == 4  :\n",
    "        item = 1\n",
    "    elif item == 5  :\n",
    "        item = 0    \n",
    "    elif item == 6  :\n",
    "        item = 2\n",
    "    elif item == 7  :\n",
    "        item = 2\n",
    "      \n",
    "        #print(item)\n",
    "    newlist.append(item)\n",
    "newlist;\n",
    "accuracy_score(yp,newlist)"
   ]
  },
  {
   "cell_type": "markdown",
   "metadata": {},
   "source": [
    "# PROCESAMIENTO GUAJIRA TRANSFORMACION"
   ]
  },
  {
   "cell_type": "code",
   "execution_count": 4,
   "metadata": {},
   "outputs": [
    {
     "data": {
      "text/html": [
       "<div>\n",
       "<style scoped>\n",
       "    .dataframe tbody tr th:only-of-type {\n",
       "        vertical-align: middle;\n",
       "    }\n",
       "\n",
       "    .dataframe tbody tr th {\n",
       "        vertical-align: top;\n",
       "    }\n",
       "\n",
       "    .dataframe thead th {\n",
       "        text-align: right;\n",
       "    }\n",
       "</style>\n",
       "<table border=\"1\" class=\"dataframe\">\n",
       "  <thead>\n",
       "    <tr style=\"text-align: right;\">\n",
       "      <th></th>\n",
       "      <th>Unnamed: 0</th>\n",
       "      <th>Grabadora</th>\n",
       "      <th>Lugar</th>\n",
       "      <th>DiaGrabadora</th>\n",
       "      <th>Transformación</th>\n",
       "      <th>Permanencia</th>\n",
       "      <th>Longitud</th>\n",
       "      <th>ACIft</th>\n",
       "      <th>ADI</th>\n",
       "      <th>ACItf</th>\n",
       "      <th>...</th>\n",
       "      <th>ADIm2</th>\n",
       "      <th>ADIm3</th>\n",
       "      <th>ADIm4</th>\n",
       "      <th>ADIm5</th>\n",
       "      <th>ADIm6</th>\n",
       "      <th>ADIm7</th>\n",
       "      <th>ADIm8</th>\n",
       "      <th>ADIm9</th>\n",
       "      <th>ADIm10</th>\n",
       "      <th>ADIm11</th>\n",
       "    </tr>\n",
       "  </thead>\n",
       "  <tbody>\n",
       "    <tr>\n",
       "      <th>0</th>\n",
       "      <td>20160101</td>\n",
       "      <td>5067</td>\n",
       "      <td>Guajira</td>\n",
       "      <td>201601015067</td>\n",
       "      <td>Alta</td>\n",
       "      <td>Baja</td>\n",
       "      <td>73º26'3.2''W</td>\n",
       "      <td>-0.171947</td>\n",
       "      <td>0.584782</td>\n",
       "      <td>-0.475717</td>\n",
       "      <td>...</td>\n",
       "      <td>0.206630</td>\n",
       "      <td>0.260610</td>\n",
       "      <td>-0.326033</td>\n",
       "      <td>0.486937</td>\n",
       "      <td>0.232333</td>\n",
       "      <td>0.149117</td>\n",
       "      <td>-0.372678</td>\n",
       "      <td>-1.039871</td>\n",
       "      <td>-0.914863</td>\n",
       "      <td>-0.200129</td>\n",
       "    </tr>\n",
       "    <tr>\n",
       "      <th>1</th>\n",
       "      <td>20160102</td>\n",
       "      <td>5067</td>\n",
       "      <td>Guajira</td>\n",
       "      <td>201601025067</td>\n",
       "      <td>Alta</td>\n",
       "      <td>Baja</td>\n",
       "      <td>73º26'3.2''W</td>\n",
       "      <td>-0.304241</td>\n",
       "      <td>0.874729</td>\n",
       "      <td>-0.565690</td>\n",
       "      <td>...</td>\n",
       "      <td>0.350874</td>\n",
       "      <td>0.122914</td>\n",
       "      <td>-0.517690</td>\n",
       "      <td>0.421486</td>\n",
       "      <td>0.152173</td>\n",
       "      <td>0.262447</td>\n",
       "      <td>0.029164</td>\n",
       "      <td>-0.745587</td>\n",
       "      <td>-0.942384</td>\n",
       "      <td>-0.068598</td>\n",
       "    </tr>\n",
       "    <tr>\n",
       "      <th>2</th>\n",
       "      <td>20160103</td>\n",
       "      <td>5067</td>\n",
       "      <td>Guajira</td>\n",
       "      <td>201601035067</td>\n",
       "      <td>Alta</td>\n",
       "      <td>Baja</td>\n",
       "      <td>73º26'3.2''W</td>\n",
       "      <td>-0.339822</td>\n",
       "      <td>0.746814</td>\n",
       "      <td>-0.458379</td>\n",
       "      <td>...</td>\n",
       "      <td>0.290717</td>\n",
       "      <td>0.507416</td>\n",
       "      <td>-0.391097</td>\n",
       "      <td>0.740404</td>\n",
       "      <td>0.132742</td>\n",
       "      <td>0.167833</td>\n",
       "      <td>0.237685</td>\n",
       "      <td>-0.404005</td>\n",
       "      <td>-0.543876</td>\n",
       "      <td>0.101897</td>\n",
       "    </tr>\n",
       "    <tr>\n",
       "      <th>3</th>\n",
       "      <td>20160104</td>\n",
       "      <td>5067</td>\n",
       "      <td>Guajira</td>\n",
       "      <td>201601045067</td>\n",
       "      <td>Alta</td>\n",
       "      <td>Baja</td>\n",
       "      <td>73º26'3.2''W</td>\n",
       "      <td>-0.229584</td>\n",
       "      <td>0.918072</td>\n",
       "      <td>-0.325400</td>\n",
       "      <td>...</td>\n",
       "      <td>0.350568</td>\n",
       "      <td>0.274446</td>\n",
       "      <td>-0.362861</td>\n",
       "      <td>0.131288</td>\n",
       "      <td>-0.111861</td>\n",
       "      <td>0.054663</td>\n",
       "      <td>-0.090833</td>\n",
       "      <td>-0.648560</td>\n",
       "      <td>-0.544687</td>\n",
       "      <td>0.117638</td>\n",
       "    </tr>\n",
       "    <tr>\n",
       "      <th>4</th>\n",
       "      <td>20160105</td>\n",
       "      <td>5067</td>\n",
       "      <td>Guajira</td>\n",
       "      <td>201601055067</td>\n",
       "      <td>Alta</td>\n",
       "      <td>Baja</td>\n",
       "      <td>73º26'3.2''W</td>\n",
       "      <td>-0.308185</td>\n",
       "      <td>0.817189</td>\n",
       "      <td>-0.322157</td>\n",
       "      <td>...</td>\n",
       "      <td>0.240093</td>\n",
       "      <td>0.233373</td>\n",
       "      <td>-0.323291</td>\n",
       "      <td>0.180075</td>\n",
       "      <td>-0.131029</td>\n",
       "      <td>-0.073313</td>\n",
       "      <td>-0.177323</td>\n",
       "      <td>-0.836910</td>\n",
       "      <td>-0.718013</td>\n",
       "      <td>0.046863</td>\n",
       "    </tr>\n",
       "  </tbody>\n",
       "</table>\n",
       "<p>5 rows × 36 columns</p>\n",
       "</div>"
      ],
      "text/plain": [
       "   Unnamed: 0 Grabadora    Lugar  DiaGrabadora Transformación Permanencia  \\\n",
       "0    20160101      5067  Guajira  201601015067           Alta        Baja   \n",
       "1    20160102      5067  Guajira  201601025067           Alta        Baja   \n",
       "2    20160103      5067  Guajira  201601035067           Alta        Baja   \n",
       "3    20160104      5067  Guajira  201601045067           Alta        Baja   \n",
       "4    20160105      5067  Guajira  201601055067           Alta        Baja   \n",
       "\n",
       "       Longitud     ACIft       ADI     ACItf  ...     ADIm2     ADIm3  \\\n",
       "0  73º26'3.2''W -0.171947  0.584782 -0.475717  ...  0.206630  0.260610   \n",
       "1  73º26'3.2''W -0.304241  0.874729 -0.565690  ...  0.350874  0.122914   \n",
       "2  73º26'3.2''W -0.339822  0.746814 -0.458379  ...  0.290717  0.507416   \n",
       "3  73º26'3.2''W -0.229584  0.918072 -0.325400  ...  0.350568  0.274446   \n",
       "4  73º26'3.2''W -0.308185  0.817189 -0.322157  ...  0.240093  0.233373   \n",
       "\n",
       "      ADIm4     ADIm5     ADIm6     ADIm7     ADIm8     ADIm9    ADIm10  \\\n",
       "0 -0.326033  0.486937  0.232333  0.149117 -0.372678 -1.039871 -0.914863   \n",
       "1 -0.517690  0.421486  0.152173  0.262447  0.029164 -0.745587 -0.942384   \n",
       "2 -0.391097  0.740404  0.132742  0.167833  0.237685 -0.404005 -0.543876   \n",
       "3 -0.362861  0.131288 -0.111861  0.054663 -0.090833 -0.648560 -0.544687   \n",
       "4 -0.323291  0.180075 -0.131029 -0.073313 -0.177323 -0.836910 -0.718013   \n",
       "\n",
       "     ADIm11  \n",
       "0 -0.200129  \n",
       "1 -0.068598  \n",
       "2  0.101897  \n",
       "3  0.117638  \n",
       "4  0.046863  \n",
       "\n",
       "[5 rows x 36 columns]"
      ]
     },
     "execution_count": 4,
     "metadata": {},
     "output_type": "execute_result"
    }
   ],
   "source": [
    "dGuajira = pd.read_csv(\"/Users/nesdav/Documents/AnalisisVariables/Datospuros/DatosGUAJIRA.csv\")\n",
    "dGuajira.head()"
   ]
  },
  {
   "cell_type": "code",
   "execution_count": 5,
   "metadata": {},
   "outputs": [
    {
     "data": {
      "text/plain": [
       "<matplotlib.axes._subplots.AxesSubplot at 0x1a178544e0>"
      ]
     },
     "execution_count": 5,
     "metadata": {},
     "output_type": "execute_result"
    },
    {
     "data": {
      "image/png": "[encoded data removed]",
      "text/plain": [
       "<Figure size 432x288 with 1 Axes>"
      ]
     },
     "metadata": {
      "needs_background": "light"
     },
     "output_type": "display_data"
    }
   ],
   "source": [
    "dGuajira['Permanencia'].value_counts().plot(kind='bar')"
   ]
  },
  {
   "cell_type": "code",
   "execution_count": 6,
   "metadata": {},
   "outputs": [
    {
     "data": {
      "text/plain": [
       "<matplotlib.axes._subplots.AxesSubplot at 0x1a18cf2780>"
      ]
     },
     "execution_count": 6,
     "metadata": {},
     "output_type": "execute_result"
    },
    {
     "data": {
      "image/png": "[encoded data removed]",
      "text/plain": [
       "<Figure size 432x288 with 1 Axes>"
      ]
     },
     "metadata": {
      "needs_background": "light"
     },
     "output_type": "display_data"
    }
   ],
   "source": [
    "dGuajira['Transformación'].value_counts().plot(kind='bar')"
   ]
  },
  {
   "cell_type": "code",
   "execution_count": 8,
   "metadata": {},
   "outputs": [],
   "source": [
    "#En MetaBolivar se encuentran los datos que no son las variables como la grabadora el dia etc \n",
    "MetaGuajira=dGuajira.iloc[:,1:7].copy()\n",
    "dGuajira.drop(dGuajira.iloc[:, 0:7], inplace = True, axis = 1) \n",
    "dGuajira.head()\n",
    "ypruebaG=MetaGuajira[\"Transformación\"]\n",
    "trans={'Alta':2,'Baja':0,'Media':1}\n",
    "ypruebaG=[trans[item] for item in ypruebaG]\n",
    "\n",
    "\n"
   ]
  },
  {
   "cell_type": "code",
   "execution_count": 9,
   "metadata": {},
   "outputs": [],
   "source": [
    "x= StandardScaler().fit_transform(dGuajira.values)  ##give numpy array values\n",
    "scalx=pd.DataFrame(x,index=dGuajira.index,columns=dGuajira.columns) #so we need to transform it \n",
    "d=scalx.copy()\n",
    "scalx.head()\n",
    "\n",
    "d=scalx.copy()\n",
    "\n"
   ]
  },
  {
   "cell_type": "code",
   "execution_count": 10,
   "metadata": {},
   "outputs": [
    {
     "name": "stdout",
     "output_type": "stream",
     "text": [
      "los outliers en ACIft\n",
      "los outliers en ADI\n",
      "los outliers en ACItf\n",
      "esta en la posicion 18\n",
      "prim ACItf\n",
      "second -3.924064138761329e-17\n",
      "los outliers en BI\n",
      "los outliers en TE\n",
      "esta en la posicion 39\n",
      "prim TE\n",
      "second -2.6798486801296883e-17\n",
      "los outliers en ESM\n",
      "los outliers en NDSI\n",
      "los outliers en P\n",
      "esta en la posicion 37\n",
      "prim P\n",
      "second -5.16827959739297e-17\n",
      "los outliers en M\n",
      "los outliers en NP\n",
      "esta en la posicion 13\n",
      "esta en la posicion 14\n",
      "los outliers en MID\n",
      "esta en la posicion 13\n",
      "prim MID\n",
      "second 1.5313421029312504e-17\n",
      "los outliers en BNF\n",
      "los outliers en BNT\n",
      "los outliers en MD\n",
      "los outliers en FM\n",
      "esta en la posicion 37\n",
      "prim FM\n",
      "second 8.039546040389065e-17\n",
      "los outliers en SF\n",
      "los outliers en RMS\n",
      "los outliers en CF\n",
      "esta en la posicion 37\n",
      "prim CF\n",
      "second -9.092343736154299e-18\n",
      "los outliers en ADIm1\n",
      "esta en la posicion 18\n",
      "prim ADIm1\n",
      "second -3.254101968728907e-17\n",
      "los outliers en ADIm2\n",
      "esta en la posicion 18\n",
      "prim ADIm2\n",
      "second 1.2824990112049222e-16\n",
      "los outliers en ADIm3\n",
      "esta en la posicion 18\n",
      "prim ADIm3\n",
      "second 8.422381566121877e-17\n",
      "los outliers en ADIm4\n",
      "esta en la posicion 57\n",
      "prim ADIm4\n",
      "second 4.594026308793751e-17\n",
      "los outliers en ADIm5\n",
      "esta en la posicion 18\n",
      "prim ADIm5\n",
      "second -7.656710514656253e-17\n",
      "los outliers en ADIm6\n",
      "esta en la posicion 45\n",
      "prim ADIm6\n",
      "second -7.656710514656252e-18\n",
      "los outliers en ADIm7\n",
      "los outliers en ADIm8\n",
      "esta en la posicion 18\n",
      "prim ADIm8\n",
      "second 8.518090447555081e-17\n",
      "los outliers en ADIm9\n",
      "esta en la posicion 18\n",
      "prim ADIm9\n",
      "second 1.5313421029312504e-17\n",
      "los outliers en ADIm10\n",
      "esta en la posicion 18\n",
      "prim ADIm10\n",
      "second 1.0432268076219144e-16\n",
      "los outliers en ADIm11\n",
      "esta en la posicion 18\n",
      "prim ADIm11\n",
      "second 1.854359577768311e-16\n"
     ]
    }
   ],
   "source": [
    "for index ,i in enumerate(d.columns):\n",
    "    print(\"los outliers en\",d.columns[index])\n",
    "    a=find_anomalies(d.iloc[:,index])\n",
    "    if len(a)>2:\n",
    "        for b in range(len(a)):\n",
    "            print ('aaa',b)\n",
    "            d[i].iloc[b]= d[i].mean()\n",
    "            print ('datos corregidos', d[i].iloc[b])\n",
    "    elif len(a) == 1:\n",
    "        print(\"prim\", i)\n",
    "        print(\"second\",d[i].mean())\n",
    "        d[i].iloc[index]= d[i].mean()\n",
    "        \n",
    "dw=d.copy()"
   ]
  },
  {
   "cell_type": "code",
   "execution_count": 11,
   "metadata": {},
   "outputs": [],
   "source": [
    "##Creo una nueva db que tendra los datos sin outliers\n",
    "dwitouliers=d\n",
    "#y reemplazo los outliers por la media del vector \n",
    "dwitouliers.ACIft[18]=d.ACIft.mean()\n",
    "dwitouliers.TE[39]=d.TE.mean()\n",
    "dwitouliers.P[37]=d.P.mean()\n",
    "dwitouliers.NP[13]=d.NP.mean()\n",
    "dwitouliers.NP[14]=d.NP.mean()\n",
    "dwitouliers.MID[13]=d.MID.mean()\n",
    "dwitouliers.FM[37]=d.FM.mean()\n",
    "dwitouliers.CF[37]=d.CF.mean()\n",
    "dwitouliers.ADIm1[18]=d.ADIm1.mean()\n",
    "dwitouliers.ADIm2[18]=d.ADIm2.mean()\n",
    "dwitouliers.ADIm3[18]=d.ADIm3.mean()\n",
    "dwitouliers.ADIm4[57]=d.ADIm4.mean()\n",
    "dwitouliers.ADIm5[18]=d.ADIm5.mean()\n",
    "dwitouliers.ADIm6[45]=d.ADIm6.mean()\n",
    "dwitouliers.ADIm8[18]=d.ADIm8.mean()\n",
    "dwitouliers.ADIm9[18]=d.ADIm9.mean()\n",
    "dwitouliers.ADIm10[18]=d.ADIm10.mean()\n",
    "dwitouliers.ADIm11[18]=d.ADIm11.mean()\n",
    "\n",
    "\n",
    "\n",
    "\n",
    "\n",
    "\n",
    "\n",
    "\n",
    "\n",
    "\n",
    "\n"
   ]
  },
  {
   "cell_type": "code",
   "execution_count": 12,
   "metadata": {},
   "outputs": [
    {
     "data": {
      "text/plain": [
       "<matplotlib.axes._subplots.AxesSubplot at 0x1a18806390>"
      ]
     },
     "execution_count": 12,
     "metadata": {},
     "output_type": "execute_result"
    },
    {
     "data": {
      "image/png": "[encoded data removed]",
      "text/plain": [
       "<Figure size 1584x1584 with 1 Axes>"
      ]
     },
     "metadata": {
      "needs_background": "light"
     },
     "output_type": "display_data"
    }
   ],
   "source": [
    "dwitouliers.boxplot(figsize = (22,22))"
   ]
  },
  {
   "cell_type": "code",
   "execution_count": 16,
   "metadata": {
    "scrolled": false
   },
   "outputs": [
    {
     "data": {
      "text/plain": [
       "<matplotlib.axes._subplots.AxesSubplot at 0x1a1a503128>"
      ]
     },
     "execution_count": 16,
     "metadata": {},
     "output_type": "execute_result"
    },
    {
     "data": {
      "image/png": "[encoded data removed]",
      "text/plain": [
       "<Figure size 1584x1584 with 1 Axes>"
      ]
     },
     "metadata": {
      "needs_background": "light"
     },
     "output_type": "display_data"
    }
   ],
   "source": [
    "dwitouliers.boxplot(figsize = (22,22))"
   ]
  },
  {
   "cell_type": "code",
   "execution_count": 21,
   "metadata": {},
   "outputs": [
    {
     "data": {
      "text/html": [
       "<div>\n",
       "<style scoped>\n",
       "    .dataframe tbody tr th:only-of-type {\n",
       "        vertical-align: middle;\n",
       "    }\n",
       "\n",
       "    .dataframe tbody tr th {\n",
       "        vertical-align: top;\n",
       "    }\n",
       "\n",
       "    .dataframe thead th {\n",
       "        text-align: right;\n",
       "    }\n",
       "</style>\n",
       "<table border=\"1\" class=\"dataframe\">\n",
       "  <thead>\n",
       "    <tr style=\"text-align: right;\">\n",
       "      <th></th>\n",
       "      <th>ACIft</th>\n",
       "      <th>ADI</th>\n",
       "      <th>ACItf</th>\n",
       "      <th>BI</th>\n",
       "      <th>TE</th>\n",
       "      <th>ESM</th>\n",
       "      <th>NDSI</th>\n",
       "      <th>P</th>\n",
       "      <th>M</th>\n",
       "      <th>NP</th>\n",
       "      <th>...</th>\n",
       "      <th>ADIm2</th>\n",
       "      <th>ADIm3</th>\n",
       "      <th>ADIm4</th>\n",
       "      <th>ADIm5</th>\n",
       "      <th>ADIm6</th>\n",
       "      <th>ADIm7</th>\n",
       "      <th>ADIm8</th>\n",
       "      <th>ADIm9</th>\n",
       "      <th>ADIm10</th>\n",
       "      <th>ADIm11</th>\n",
       "    </tr>\n",
       "  </thead>\n",
       "  <tbody>\n",
       "    <tr>\n",
       "      <th>count</th>\n",
       "      <td>58.000000</td>\n",
       "      <td>5.800000e+01</td>\n",
       "      <td>58.000000</td>\n",
       "      <td>5.800000e+01</td>\n",
       "      <td>58.000000</td>\n",
       "      <td>5.800000e+01</td>\n",
       "      <td>5.800000e+01</td>\n",
       "      <td>58.000000</td>\n",
       "      <td>5.800000e+01</td>\n",
       "      <td>58.000000</td>\n",
       "      <td>...</td>\n",
       "      <td>58.000000</td>\n",
       "      <td>58.000000</td>\n",
       "      <td>58.000000</td>\n",
       "      <td>58.000000</td>\n",
       "      <td>58.000000</td>\n",
       "      <td>5.800000e+01</td>\n",
       "      <td>58.000000</td>\n",
       "      <td>58.000000</td>\n",
       "      <td>58.000000</td>\n",
       "      <td>58.000000</td>\n",
       "    </tr>\n",
       "    <tr>\n",
       "      <th>mean</th>\n",
       "      <td>-0.034126</td>\n",
       "      <td>-8.422382e-17</td>\n",
       "      <td>0.002038</td>\n",
       "      <td>7.273875e-17</td>\n",
       "      <td>0.058991</td>\n",
       "      <td>-2.651136e-16</td>\n",
       "      <td>7.273875e-17</td>\n",
       "      <td>-0.104397</td>\n",
       "      <td>-1.722760e-17</td>\n",
       "      <td>-0.136542</td>\n",
       "      <td>...</td>\n",
       "      <td>0.074509</td>\n",
       "      <td>0.067764</td>\n",
       "      <td>0.051021</td>\n",
       "      <td>0.062148</td>\n",
       "      <td>0.080787</td>\n",
       "      <td>6.125368e-17</td>\n",
       "      <td>0.065414</td>\n",
       "      <td>0.046205</td>\n",
       "      <td>0.067271</td>\n",
       "      <td>0.077030</td>\n",
       "    </tr>\n",
       "    <tr>\n",
       "      <th>std</th>\n",
       "      <td>0.973462</td>\n",
       "      <td>1.008734e+00</td>\n",
       "      <td>1.008610</td>\n",
       "      <td>1.008734e+00</td>\n",
       "      <td>0.919073</td>\n",
       "      <td>1.008734e+00</td>\n",
       "      <td>1.008734e+00</td>\n",
       "      <td>0.518900</td>\n",
       "      <td>1.008734e+00</td>\n",
       "      <td>0.670055</td>\n",
       "      <td>...</td>\n",
       "      <td>0.727755</td>\n",
       "      <td>0.809319</td>\n",
       "      <td>0.822633</td>\n",
       "      <td>0.902366</td>\n",
       "      <td>0.892244</td>\n",
       "      <td>1.008734e+00</td>\n",
       "      <td>0.876102</td>\n",
       "      <td>0.849719</td>\n",
       "      <td>0.830637</td>\n",
       "      <td>0.724601</td>\n",
       "    </tr>\n",
       "    <tr>\n",
       "      <th>min</th>\n",
       "      <td>-2.247937</td>\n",
       "      <td>-2.322593e+00</td>\n",
       "      <td>-1.093317</td>\n",
       "      <td>-2.175847e+00</td>\n",
       "      <td>-2.633385</td>\n",
       "      <td>-2.997550e+00</td>\n",
       "      <td>-1.735669e+00</td>\n",
       "      <td>-0.625825</td>\n",
       "      <td>-1.309995e+00</td>\n",
       "      <td>-1.445342</td>\n",
       "      <td>...</td>\n",
       "      <td>-1.957339</td>\n",
       "      <td>-2.261486</td>\n",
       "      <td>-2.838596</td>\n",
       "      <td>-2.407799</td>\n",
       "      <td>-2.812746</td>\n",
       "      <td>-2.846120e+00</td>\n",
       "      <td>-1.815326</td>\n",
       "      <td>-2.220323</td>\n",
       "      <td>-2.400847</td>\n",
       "      <td>-2.562192</td>\n",
       "    </tr>\n",
       "    <tr>\n",
       "      <th>25%</th>\n",
       "      <td>-0.601511</td>\n",
       "      <td>-4.005943e-01</td>\n",
       "      <td>-0.758225</td>\n",
       "      <td>-7.642991e-01</td>\n",
       "      <td>-0.359255</td>\n",
       "      <td>-6.849982e-01</td>\n",
       "      <td>-7.772862e-01</td>\n",
       "      <td>-0.527588</td>\n",
       "      <td>-1.164144e+00</td>\n",
       "      <td>-0.546192</td>\n",
       "      <td>...</td>\n",
       "      <td>-0.392328</td>\n",
       "      <td>-0.383739</td>\n",
       "      <td>-0.363056</td>\n",
       "      <td>-0.413414</td>\n",
       "      <td>-0.337441</td>\n",
       "      <td>-6.693737e-01</td>\n",
       "      <td>-0.550376</td>\n",
       "      <td>-0.572245</td>\n",
       "      <td>-0.394832</td>\n",
       "      <td>-0.250840</td>\n",
       "    </tr>\n",
       "    <tr>\n",
       "      <th>50%</th>\n",
       "      <td>-0.015106</td>\n",
       "      <td>-2.434606e-02</td>\n",
       "      <td>-0.314227</td>\n",
       "      <td>5.229868e-03</td>\n",
       "      <td>0.485916</td>\n",
       "      <td>2.961021e-01</td>\n",
       "      <td>-2.701561e-01</td>\n",
       "      <td>-0.328436</td>\n",
       "      <td>8.169261e-01</td>\n",
       "      <td>-0.225570</td>\n",
       "      <td>...</td>\n",
       "      <td>0.097751</td>\n",
       "      <td>0.110273</td>\n",
       "      <td>0.111495</td>\n",
       "      <td>0.208550</td>\n",
       "      <td>0.152460</td>\n",
       "      <td>1.827947e-01</td>\n",
       "      <td>0.197564</td>\n",
       "      <td>0.190093</td>\n",
       "      <td>0.363189</td>\n",
       "      <td>0.196699</td>\n",
       "    </tr>\n",
       "    <tr>\n",
       "      <th>75%</th>\n",
       "      <td>0.465920</td>\n",
       "      <td>8.506082e-01</td>\n",
       "      <td>0.469031</td>\n",
       "      <td>4.617388e-01</td>\n",
       "      <td>0.802104</td>\n",
       "      <td>6.573710e-01</td>\n",
       "      <td>5.830424e-01</td>\n",
       "      <td>0.305973</td>\n",
       "      <td>8.376636e-01</td>\n",
       "      <td>0.276378</td>\n",
       "      <td>...</td>\n",
       "      <td>0.668786</td>\n",
       "      <td>0.619836</td>\n",
       "      <td>0.628546</td>\n",
       "      <td>0.729852</td>\n",
       "      <td>0.488035</td>\n",
       "      <td>7.356577e-01</td>\n",
       "      <td>0.597306</td>\n",
       "      <td>0.566086</td>\n",
       "      <td>0.663902</td>\n",
       "      <td>0.658657</td>\n",
       "    </tr>\n",
       "    <tr>\n",
       "      <th>max</th>\n",
       "      <td>2.126788</td>\n",
       "      <td>1.977610e+00</td>\n",
       "      <td>4.024401</td>\n",
       "      <td>2.758288e+00</td>\n",
       "      <td>0.835979</td>\n",
       "      <td>1.456090e+00</td>\n",
       "      <td>1.965746e+00</td>\n",
       "      <td>1.441310</td>\n",
       "      <td>8.905461e-01</td>\n",
       "      <td>1.911097</td>\n",
       "      <td>...</td>\n",
       "      <td>1.155565</td>\n",
       "      <td>1.247450</td>\n",
       "      <td>1.530766</td>\n",
       "      <td>1.597186</td>\n",
       "      <td>1.907240</td>\n",
       "      <td>1.692146e+00</td>\n",
       "      <td>1.934941</td>\n",
       "      <td>1.272426</td>\n",
       "      <td>1.058312</td>\n",
       "      <td>1.130570</td>\n",
       "    </tr>\n",
       "  </tbody>\n",
       "</table>\n",
       "<p>8 rows × 28 columns</p>\n",
       "</div>"
      ],
      "text/plain": [
       "           ACIft           ADI      ACItf            BI         TE  \\\n",
       "count  58.000000  5.800000e+01  58.000000  5.800000e+01  58.000000   \n",
       "mean   -0.034126 -8.422382e-17   0.002038  7.273875e-17   0.058991   \n",
       "std     0.973462  1.008734e+00   1.008610  1.008734e+00   0.919073   \n",
       "min    -2.247937 -2.322593e+00  -1.093317 -2.175847e+00  -2.633385   \n",
       "25%    -0.601511 -4.005943e-01  -0.758225 -7.642991e-01  -0.359255   \n",
       "50%    -0.015106 -2.434606e-02  -0.314227  5.229868e-03   0.485916   \n",
       "75%     0.465920  8.506082e-01   0.469031  4.617388e-01   0.802104   \n",
       "max     2.126788  1.977610e+00   4.024401  2.758288e+00   0.835979   \n",
       "\n",
       "                ESM          NDSI          P             M         NP  ...  \\\n",
       "count  5.800000e+01  5.800000e+01  58.000000  5.800000e+01  58.000000  ...   \n",
       "mean  -2.651136e-16  7.273875e-17  -0.104397 -1.722760e-17  -0.136542  ...   \n",
       "std    1.008734e+00  1.008734e+00   0.518900  1.008734e+00   0.670055  ...   \n",
       "min   -2.997550e+00 -1.735669e+00  -0.625825 -1.309995e+00  -1.445342  ...   \n",
       "25%   -6.849982e-01 -7.772862e-01  -0.527588 -1.164144e+00  -0.546192  ...   \n",
       "50%    2.961021e-01 -2.701561e-01  -0.328436  8.169261e-01  -0.225570  ...   \n",
       "75%    6.573710e-01  5.830424e-01   0.305973  8.376636e-01   0.276378  ...   \n",
       "max    1.456090e+00  1.965746e+00   1.441310  8.905461e-01   1.911097  ...   \n",
       "\n",
       "           ADIm2      ADIm3      ADIm4      ADIm5      ADIm6         ADIm7  \\\n",
       "count  58.000000  58.000000  58.000000  58.000000  58.000000  5.800000e+01   \n",
       "mean    0.074509   0.067764   0.051021   0.062148   0.080787  6.125368e-17   \n",
       "std     0.727755   0.809319   0.822633   0.902366   0.892244  1.008734e+00   \n",
       "min    -1.957339  -2.261486  -2.838596  -2.407799  -2.812746 -2.846120e+00   \n",
       "25%    -0.392328  -0.383739  -0.363056  -0.413414  -0.337441 -6.693737e-01   \n",
       "50%     0.097751   0.110273   0.111495   0.208550   0.152460  1.827947e-01   \n",
       "75%     0.668786   0.619836   0.628546   0.729852   0.488035  7.356577e-01   \n",
       "max     1.155565   1.247450   1.530766   1.597186   1.907240  1.692146e+00   \n",
       "\n",
       "           ADIm8      ADIm9     ADIm10     ADIm11  \n",
       "count  58.000000  58.000000  58.000000  58.000000  \n",
       "mean    0.065414   0.046205   0.067271   0.077030  \n",
       "std     0.876102   0.849719   0.830637   0.724601  \n",
       "min    -1.815326  -2.220323  -2.400847  -2.562192  \n",
       "25%    -0.550376  -0.572245  -0.394832  -0.250840  \n",
       "50%     0.197564   0.190093   0.363189   0.196699  \n",
       "75%     0.597306   0.566086   0.663902   0.658657  \n",
       "max     1.934941   1.272426   1.058312   1.130570  \n",
       "\n",
       "[8 rows x 28 columns]"
      ]
     },
     "execution_count": 21,
     "metadata": {},
     "output_type": "execute_result"
    }
   ],
   "source": [
    "dwitouliers.describe()"
   ]
  },
  {
   "cell_type": "code",
   "execution_count": 25,
   "metadata": {},
   "outputs": [
    {
     "data": {
      "image/png": "[encoded data removed]",
      "text/plain": [
       "<Figure size 1080x1080 with 2 Axes>"
      ]
     },
     "metadata": {
      "needs_background": "light"
     },
     "output_type": "display_data"
    }
   ],
   "source": [
    "##En este caso dataprofe son los datos sin outliers\n",
    "dataprofe=dwitouliers.copy()\n",
    "from hmmlearn import hmm\n",
    "\n",
    "modelhm=hmm.GMMHMM(n_components=7,n_mix=2,covariance_type=\"spherical\",random_state=1) \n",
    "modelhm.fit(dataprofe)\n",
    "labels = modelhm.predict(dataprofe)\n",
    "\n",
    "yp=ypruebaG\n",
    "fig = plt.figure(figsize=(15,15))\n",
    "ax = fig.add_subplot(2,2,1)\n",
    "x=np.arange(dataprofe.shape[0])\n",
    "y=yp\n",
    "img = ax.scatter(x, yp, c=yp, cmap=plt.viridis())\n",
    "axx = fig.add_subplot(2,2,3)\n",
    "img = axx.scatter(x, labels, c=labels, cmap=plt.viridis())\n",
    "plt.show()"
   ]
  },
  {
   "cell_type": "code",
   "execution_count": 26,
   "metadata": {},
   "outputs": [
    {
     "data": {
      "text/plain": [
       "0.9655172413793104"
      ]
     },
     "execution_count": 26,
     "metadata": {},
     "output_type": "execute_result"
    }
   ],
   "source": [
    "from sklearn.metrics import accuracy_score\n",
    "\n",
    "newlist = []\n",
    "\n",
    "for item in labels:\n",
    "    #print(item)\n",
    "    if item == 0  :\n",
    "        item = 1\n",
    "    elif item == 1  :\n",
    "        item = 0\n",
    "    elif item == 2  :\n",
    "        item = 1\n",
    "    elif item == 3  :\n",
    "        item = 1\n",
    "    elif item == 4  :\n",
    "        item = 2\n",
    "    elif item == 5  :\n",
    "        item = 0    \n",
    "    elif item == 6  :\n",
    "        item = 2\n",
    "      \n",
    "        #print(item)\n",
    "    newlist.append(item)\n",
    "newlist;\n",
    "accuracy_score(yp,newlist)"
   ]
  },
  {
   "cell_type": "code",
   "execution_count": 27,
   "metadata": {},
   "outputs": [],
   "source": [
    "MetaGuajira['labelspredichasporGMMHMM']=labels\n",
    "MetaGuajira.to_csv('Resultadosdatosguajiratransformacion.csv')"
   ]
  },
  {
   "cell_type": "code",
   "execution_count": null,
   "metadata": {},
   "outputs": [],
   "source": []
  }
 ],
 "metadata": {
  "kernelspec": {
   "display_name": "Python 3",
   "language": "python",
   "name": "python3"
  }
 },
 "nbformat": 4,
 "nbformat_minor": 2
}
